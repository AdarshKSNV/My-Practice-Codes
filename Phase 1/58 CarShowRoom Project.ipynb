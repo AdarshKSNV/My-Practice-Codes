{
 "cells": [
  {
   "cell_type": "markdown",
   "id": "e5314aaf",
   "metadata": {},
   "source": [
    "///car companies=toyata benz mahindra take the input from the user for the car company name and in the input message give the user the three options.This user input company gies as the input/argument to model name function,which welcomes the user accordingly to the company name ask the user to enter this specific model name for that company The second function whose name is variant.According to the car company name and car model the user should be asked to enter the variant he would like to choose from petrol,diesel The last function display function according to the car company car model name and car variant first its ex showroom price should be displayed and then its on road price should be displayed,which is caluculated as ex showroom price+cgst+sgst+insurance. The sgst cgst and the insurance all the three have the common value throughout the carshowroom"
   ]
  },
  {
   "cell_type": "code",
   "execution_count": 1,
   "id": "15ceac6a",
   "metadata": {},
   "outputs": [
    {
     "name": "stdout",
     "output_type": "stream",
     "text": [
      "Please enter the car company name (Toyota, Mahindra, Mercedes): togufidg\n",
      "Invalid Company Name\n"
     ]
    },
    {
     "ename": "UnboundLocalError",
     "evalue": "cannot access local variable 'modelname' where it is not associated with a value",
     "output_type": "error",
     "traceback": [
      "\u001b[1;31m---------------------------------------------------------------------------\u001b[0m",
      "\u001b[1;31mUnboundLocalError\u001b[0m                         Traceback (most recent call last)",
      "Cell \u001b[1;32mIn[1], line 55\u001b[0m\n\u001b[0;32m     53\u001b[0m showroom \u001b[38;5;241m=\u001b[39m CarShowroom()\n\u001b[0;32m     54\u001b[0m companyname \u001b[38;5;241m=\u001b[39m showroom\u001b[38;5;241m.\u001b[39mcompanyname()\n\u001b[1;32m---> 55\u001b[0m modelname, exprice \u001b[38;5;241m=\u001b[39m showroom\u001b[38;5;241m.\u001b[39mmodelname(companyname)\n\u001b[0;32m     56\u001b[0m variant \u001b[38;5;241m=\u001b[39m showroom\u001b[38;5;241m.\u001b[39mvariant()\n\u001b[0;32m     57\u001b[0m showroom\u001b[38;5;241m.\u001b[39mdisplay(exprice,\u001b[38;5;241m25000\u001b[39m,\u001b[38;5;241m25000\u001b[39m,\u001b[38;5;241m25000\u001b[39m)\n",
      "Cell \u001b[1;32mIn[1], line 40\u001b[0m, in \u001b[0;36mCarShowroom.modelname\u001b[1;34m(self, companyname)\u001b[0m\n\u001b[0;32m     37\u001b[0m \u001b[38;5;28;01melse\u001b[39;00m:\n\u001b[0;32m     38\u001b[0m     \u001b[38;5;28mprint\u001b[39m(\u001b[38;5;124m\"\u001b[39m\u001b[38;5;124mInvalid Company Name\u001b[39m\u001b[38;5;124m\"\u001b[39m)\n\u001b[1;32m---> 40\u001b[0m \u001b[38;5;28;01mreturn\u001b[39;00m modelname, exprice\n",
      "\u001b[1;31mUnboundLocalError\u001b[0m: cannot access local variable 'modelname' where it is not associated with a value"
     ]
    }
   ],
   "source": [
    "class CarShowroom:\n",
    "    def companyname(self):\n",
    "        companyname = input(\"Please enter the car company name (Toyota, Mahindra, Mercedes): \")\n",
    "        return companyname\n",
    "    \n",
    "    def modelname(self, companyname):\n",
    "        if companyname == \"Toyota\":\n",
    "            print(f\"Hey, welcome to the {companyname} showroom!\")\n",
    "            modelname = input(\"Enter the specific model you needed (Innova, Hybrid): \")\n",
    "            if modelname not in [\"Innova\", \"Hybrid\"]:\n",
    "                print(\"Invalid model name!\")\n",
    "            else:\n",
    "                if modelname == \"Innova\":\n",
    "                    exprice = 5000000\n",
    "                elif modelname == \"Hybrid\":\n",
    "                    exprice = 6000000\n",
    "        elif companyname == \"Mahindra\":\n",
    "            print(f\"Hey, welcome to the {companyname} showroom!\")\n",
    "            modelname = input(\"Enter the specific model you needed (Thar, Scorpio): \")\n",
    "            if modelname not in [\"Thar\", \"Scorpio\"]:\n",
    "                print(\"Invalid model name!\")\n",
    "            else:\n",
    "                if modelname == \"Thar\":\n",
    "                    exprice = 7000000\n",
    "                elif modelname == \"Scorpio\":\n",
    "                    exprice = 8000000\n",
    "        elif companyname == \"Mercedes\":\n",
    "            print(f\"Hey, welcome to the {companyname} showroom!\")\n",
    "            modelname = input(\"Enter the specific model you needed (G Class, Maybach): \")\n",
    "            if modelname not in [\"G Class\", \"Maybach\"]:\n",
    "                print(\"Invalid model name!\")\n",
    "            else:\n",
    "                if modelname == \"G Class\":\n",
    "                    exprice = 10000000\n",
    "                elif modelname == \"Maybach\":\n",
    "                    exprice = 15000000\n",
    "        else:\n",
    "            print(\"Invalid Company Name\")\n",
    "                            \n",
    "        return modelname, exprice\n",
    "    \n",
    "    def variant(self):\n",
    "        variant = input(\"Please Enter the variant you needed (Petrol, Diesel): \")\n",
    "        if variant not in [\"Petrol\", \"Diesel\"]:\n",
    "            print(\"Invalid variant model!\")\n",
    "        return variant\n",
    "\n",
    "    def display(self, exprice, cgst, sgst, insurance):\n",
    "        print(f\"Exprice: {exprice}\")\n",
    "        onroadprice = exprice + cgst + sgst + insurance\n",
    "        print(f\"Onroadprice: {onroadprice}\")\n",
    "\n",
    "showroom = CarShowroom()\n",
    "companyname = showroom.companyname()\n",
    "modelname, exprice = showroom.modelname(companyname)\n",
    "variant = showroom.variant()\n",
    "showroom.display(exprice,25000,25000,25000)"
   ]
  },
  {
   "cell_type": "code",
   "execution_count": null,
   "id": "c655b937",
   "metadata": {},
   "outputs": [],
   "source": []
  }
 ],
 "metadata": {
  "kernelspec": {
   "display_name": "Python 3 (ipykernel)",
   "language": "python",
   "name": "python3"
  },
  "language_info": {
   "codemirror_mode": {
    "name": "ipython",
    "version": 3
   },
   "file_extension": ".py",
   "mimetype": "text/x-python",
   "name": "python",
   "nbconvert_exporter": "python",
   "pygments_lexer": "ipython3",
   "version": "3.11.3"
  }
 },
 "nbformat": 4,
 "nbformat_minor": 5
}
