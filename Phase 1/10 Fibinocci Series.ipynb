{
 "cells": [
  {
   "cell_type": "code",
   "execution_count": null,
   "id": "2377de3d",
   "metadata": {},
   "outputs": [],
   "source": [
    "//Print First 10 fibinocci series"
   ]
  },
  {
   "cell_type": "code",
   "execution_count": 6,
   "id": "98ab03c5",
   "metadata": {},
   "outputs": [
    {
     "name": "stdout",
     "output_type": "stream",
     "text": [
      "0\n",
      "1\n",
      "1\n",
      "2\n",
      "3\n",
      "5\n",
      "8\n",
      "13\n",
      "21\n",
      "34\n",
      "55\n",
      "89\n"
     ]
    }
   ],
   "source": [
    "first=0\n",
    "second=1\n",
    "print(first)\n",
    "print(second)\n",
    "\n",
    "for i in range(1,11):\n",
    "    third=first+second\n",
    "    print(third)\n",
    "    first,second=second,third"
   ]
  },
  {
   "cell_type": "code",
   "execution_count": null,
   "id": "8c4332f2",
   "metadata": {},
   "outputs": [],
   "source": []
  }
 ],
 "metadata": {
  "kernelspec": {
   "display_name": "Python 3 (ipykernel)",
   "language": "python",
   "name": "python3"
  },
  "language_info": {
   "codemirror_mode": {
    "name": "ipython",
    "version": 3
   },
   "file_extension": ".py",
   "mimetype": "text/x-python",
   "name": "python",
   "nbconvert_exporter": "python",
   "pygments_lexer": "ipython3",
   "version": "3.11.3"
  }
 },
 "nbformat": 4,
 "nbformat_minor": 5
}
