{
 "cells": [
  {
   "cell_type": "code",
   "execution_count": 1,
   "id": "c27cfcfd",
   "metadata": {},
   "outputs": [
    {
     "ename": "ModuleNotFoundError",
     "evalue": "No module named 'Functions'",
     "output_type": "error",
     "traceback": [
      "\u001b[1;31m---------------------------------------------------------------------------\u001b[0m",
      "\u001b[1;31mModuleNotFoundError\u001b[0m                       Traceback (most recent call last)",
      "Cell \u001b[1;32mIn[1], line 1\u001b[0m\n\u001b[1;32m----> 1\u001b[0m \u001b[38;5;28;01mfrom\u001b[39;00m \u001b[38;5;21;01mFunctions\u001b[39;00m \u001b[38;5;28;01mimport\u001b[39;00m checkbalance, get_withdrawal_limit, withdraw_money, deposit_money, add_transaction, print_mini_statement\n\u001b[0;32m      3\u001b[0m \u001b[38;5;28;01mclass\u001b[39;00m \u001b[38;5;21;01mFun\u001b[39;00m:\n\u001b[0;32m      4\u001b[0m     \u001b[38;5;28;01mdef\u001b[39;00m \u001b[38;5;21mtypes\u001b[39m(\u001b[38;5;28mself\u001b[39m):\n",
      "\u001b[1;31mModuleNotFoundError\u001b[0m: No module named 'Functions'"
     ]
    }
   ],
   "source": [
    "from Functions import checkbalance, get_withdrawal_limit, withdraw_money, deposit_money, add_transaction, print_mini_statement\n",
    "\n",
    "class Fun:\n",
    "    def types(self):\n",
    "        self.ATMBALANCE = 1000000\n",
    "        print(\"Cash Available in the atm is:\", self.ATMBALANCE)\n",
    "        return self.cardtypes()\n",
    "\n",
    "    def cardtypes(self):\n",
    "        self.cardtype = input(\"Enter the card type you have ('1.Rupay','2.Visa','3.Mastercard'):\")\n",
    "        if self.cardtype in [\"1\", \"Rupay\", \"2\", \"Visa\", \"3\", \"Mastercard\"]:\n",
    "            return self.auth()\n",
    "        else:\n",
    "            print(\"Card types not found\")\n",
    "\n",
    "    def auth(self):\n",
    "        self.username = input(\"Enter the Username:\")\n",
    "        self.password = input(\"Enter the Password:\")\n",
    "        if self.username == self.password:\n",
    "            print(\"Successfully Login\")\n",
    "            option = input(\"Enter the option you need: (1.Balance, 2.Cash Withdrawal, 3.Cash Deposit, 4.Mini Statement, 5.Card Renewal)\")\n",
    "            if option == \"1\":\n",
    "                checkbalance()\n",
    "            elif option == \"2\":\n",
    "                amount = int(input(\"Enter the amount to withdraw: \"))\n",
    "                withdraw_money(amount, self.cardtype)\n",
    "            elif option == \"3\":\n",
    "                amount = int(input(\"Enter the amount to deposit: \"))\n",
    "                deposit_money(amount)\n",
    "            elif option == \"4\":\n",
    "                print_mini_statement()\n",
    "            elif option == \"5\":\n",
    "                pass\n",
    "        else:\n",
    "            print(\"Invalid Credentials\")\n",
    "            self.auth()\n",
    "        return obj.auth()\n",
    "\n",
    "obj = Fun()\n",
    "obj.types()\n"
   ]
  },
  {
   "cell_type": "code",
   "execution_count": null,
   "id": "1852dfe6",
   "metadata": {},
   "outputs": [],
   "source": []
  }
 ],
 "metadata": {
  "kernelspec": {
   "display_name": "Python 3 (ipykernel)",
   "language": "python",
   "name": "python3"
  },
  "language_info": {
   "codemirror_mode": {
    "name": "ipython",
    "version": 3
   },
   "file_extension": ".py",
   "mimetype": "text/x-python",
   "name": "python",
   "nbconvert_exporter": "python",
   "pygments_lexer": "ipython3",
   "version": "3.11.3"
  }
 },
 "nbformat": 4,
 "nbformat_minor": 5
}
