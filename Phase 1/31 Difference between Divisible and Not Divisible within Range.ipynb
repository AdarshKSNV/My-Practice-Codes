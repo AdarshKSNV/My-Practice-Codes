{
 "cells": [
  {
   "cell_type": "markdown",
   "id": "16b9fb1b",
   "metadata": {},
   "source": [
    "// Calculate the differenece of sum of numbers that are divisible and not divisible by 6 in the range of first 30  numbers"
   ]
  },
  {
   "cell_type": "code",
   "execution_count": 2,
   "id": "44aa2e70",
   "metadata": {},
   "outputs": [
    {
     "name": "stdout",
     "output_type": "stream",
     "text": [
      "-285\n"
     ]
    }
   ],
   "source": [
    "div=0\n",
    "notdiv=0\n",
    "+\n",
    "for i in range(1,31):\n",
    "    if(i%6==0):\n",
    "        div+=i\n",
    "    else:\n",
    "        notdiv+=i\n",
    "diff= div-notdiv\n",
    "print(diff)"
   ]
  },
  {
   "cell_type": "code",
   "execution_count": null,
   "id": "d8f422d5",
   "metadata": {},
   "outputs": [],
   "source": []
  }
 ],
 "metadata": {
  "kernelspec": {
   "display_name": "Python 3 (ipykernel)",
   "language": "python",
   "name": "python3"
  },
  "language_info": {
   "codemirror_mode": {
    "name": "ipython",
    "version": 3
   },
   "file_extension": ".py",
   "mimetype": "text/x-python",
   "name": "python",
   "nbconvert_exporter": "python",
   "pygments_lexer": "ipython3",
   "version": "3.11.3"
  }
 },
 "nbformat": 4,
 "nbformat_minor": 5
}
