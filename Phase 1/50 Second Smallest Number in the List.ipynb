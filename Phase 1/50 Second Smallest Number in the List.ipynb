{
 "cells": [
  {
   "cell_type": "code",
   "execution_count": null,
   "id": "756a1aa4",
   "metadata": {},
   "outputs": [],
   "source": [
    "//Write a program to find the second smallest negative without using sort or minimum and maximum"
   ]
  },
  {
   "cell_type": "code",
   "execution_count": 30,
   "id": "c916e961",
   "metadata": {},
   "outputs": [
    {
     "name": "stdout",
     "output_type": "stream",
     "text": [
      "-1\n"
     ]
    }
   ],
   "source": [
    "list=[22,-1,42,65,1,-4,6]\n",
    "m1=99999\n",
    "m2=99999\n",
    "for i in range(len(list)):\n",
    "    if list[i]<m1:\n",
    "        m2=m1\n",
    "        m1=list[i]\n",
    "print(m2)"
   ]
  },
  {
   "cell_type": "code",
   "execution_count": 25,
   "id": "67e0d045",
   "metadata": {},
   "outputs": [
    {
     "name": "stdout",
     "output_type": "stream",
     "text": [
      "The Second Smallest Negative Number: -1\n"
     ]
    }
   ],
   "source": [
    "list=[22,-1,42,65,1,-4,6]\n",
    "m1=99999\n",
    "m2=99999\n",
    "for i in range(len(list)):\n",
    "    if list[i]<m1:\n",
    "        m2=m1\n",
    "        m1=list[i]\n",
    "print(\"The Second Smallest Negative Number:\",m2)"
   ]
  },
  {
   "cell_type": "code",
   "execution_count": null,
   "id": "265a4c44",
   "metadata": {},
   "outputs": [],
   "source": []
  }
 ],
 "metadata": {
  "kernelspec": {
   "display_name": "Python 3 (ipykernel)",
   "language": "python",
   "name": "python3"
  },
  "language_info": {
   "codemirror_mode": {
    "name": "ipython",
    "version": 3
   },
   "file_extension": ".py",
   "mimetype": "text/x-python",
   "name": "python",
   "nbconvert_exporter": "python",
   "pygments_lexer": "ipython3",
   "version": "3.11.3"
  }
 },
 "nbformat": 4,
 "nbformat_minor": 5
}
