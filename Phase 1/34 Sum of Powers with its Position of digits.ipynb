{
 "cells": [
  {
   "cell_type": "code",
   "execution_count": 3,
   "id": "1a450b96",
   "metadata": {},
   "outputs": [
    {
     "name": "stdout",
     "output_type": "stream",
     "text": [
      "4465\n"
     ]
    }
   ],
   "source": [
    "number = 1578\n",
    "num=number\n",
    "sum=0\n",
    "position = len(str(number))\n",
    "\n",
    "while num>0:\n",
    "    digit= num%10\n",
    "    sum += digit**position\n",
    "    num //=10\n",
    "    position -=1\n",
    "print(sum)"
   ]
  },
  {
   "cell_type": "code",
   "execution_count": null,
   "id": "cabe7d28",
   "metadata": {},
   "outputs": [],
   "source": []
  }
 ],
 "metadata": {
  "kernelspec": {
   "display_name": "Python 3 (ipykernel)",
   "language": "python",
   "name": "python3"
  },
  "language_info": {
   "codemirror_mode": {
    "name": "ipython",
    "version": 3
   },
   "file_extension": ".py",
   "mimetype": "text/x-python",
   "name": "python",
   "nbconvert_exporter": "python",
   "pygments_lexer": "ipython3",
   "version": "3.11.3"
  }
 },
 "nbformat": 4,
 "nbformat_minor": 5
}
