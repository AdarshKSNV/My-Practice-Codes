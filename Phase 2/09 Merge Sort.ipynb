{
 "cells": [
  {
   "cell_type": "code",
   "execution_count": null,
   "id": "87620759",
   "metadata": {},
   "outputs": [],
   "source": [
    "def merge_sort(arr):\n",
    "    \n",
    "    if len(arr)<=1:\n",
    "        return arr\n",
    "    \n",
    "    mid = len(arr) // 2\n",
    "    left_array = arr[:mid]\n",
    "    right_array = arr[mid:]\n",
    "\n",
    "    left_array = merge_sort(left_array)\n",
    "    right_array = merge_sort(right_array)\n",
    "\n",
    "    return merge(left_array,right_array)\n",
    "\n",
    "def merge(l, r):\n",
    "    temp = []\n",
    "    left = right = 0\n",
    "    while left < len(l) and right < len(r):\n",
    "        if l[left] < r[right]:\n",
    "            temp.append(l[left])\n",
    "            left += 1\n",
    "        else:\n",
    "            temp.append(r[right])\n",
    "            right += 1\n",
    "\n",
    "    temp += l[left:]\n",
    "    temp += r[right:]\n",
    "\n",
    "    return temp\n",
    "\n",
    "arr = [60, 50, 40, 30, 20, 10]\n",
    "print(\"Before Sorting:\", arr)\n",
    "\n",
    "result = merge_sort(arr)\n",
    "print(\"After sorting:\", result)\n"
   ]
  },
  {
   "cell_type": "code",
   "execution_count": null,
   "id": "0d43a664",
   "metadata": {},
   "outputs": [],
   "source": []
  }
 ],
 "metadata": {
  "kernelspec": {
   "display_name": "Python 3 (ipykernel)",
   "language": "python",
   "name": "python3"
  },
  "language_info": {
   "codemirror_mode": {
    "name": "ipython",
    "version": 3
   },
   "file_extension": ".py",
   "mimetype": "text/x-python",
   "name": "python",
   "nbconvert_exporter": "python",
   "pygments_lexer": "ipython3",
   "version": "3.11.3"
  }
 },
 "nbformat": 4,
 "nbformat_minor": 5
}
