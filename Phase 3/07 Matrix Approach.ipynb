{
 "cells": [
  {
   "cell_type": "code",
   "execution_count": 1,
   "id": "1d93fc49-4ca4-4d70-bc76-e247812ad7f6",
   "metadata": {},
   "outputs": [
    {
     "name": "stdout",
     "output_type": "stream",
     "text": [
      "1 2 3 4 5 6 7 8 9 \n",
      "1 2 3 4 5 6 7 8 9 \n",
      "1 2 3 4 5 6 7 8 9 \n",
      "1 2 3 4 5 6 7 8 9 \n",
      "1 2 3 4 5 6 7 8 9 \n",
      "1 2 3 4 5 6 7 8 9 \n",
      "1 2 3 4 5 6 7 8 9 \n",
      "1 2 3 4 5 6 7 8 9 \n",
      "1 2 3 4 5 6 7 8 9 \n",
      "Traversal completed\n"
     ]
    }
   ],
   "source": [
    " def printMatrix(x, y, board):\n",
    "    if x == 9:\n",
    "        print(\"Traversal completed\")\n",
    "        return \n",
    " \n",
    "    print(board[x][y], end = \" \")\n",
    "    nextX, nextY = -1, -1 \n",
    " \n",
    "    if y == 8:\n",
    "        nextX = x + 1 \n",
    "        nextY = 0 \n",
    "        print()\n",
    "    else:\n",
    "        nextX = x \n",
    "        nextY = y + 1\n",
    " \n",
    "    printMatrix(nextX, nextY, board)\n",
    " \n",
    " \n",
    "board = []\n",
    "for i in range(9):\n",
    "    row = []\n",
    "    for j in range(1, 10):\n",
    "        row.append(j)\n",
    "    board.append(row)\n",
    " \n",
    "printMatrix(0, 0, board)"
   ]
  },
  {
   "cell_type": "code",
   "execution_count": null,
   "id": "de77f9c3-0943-42f7-91f5-132ef75d2d48",
   "metadata": {},
   "outputs": [],
   "source": []
  }
 ],
 "metadata": {
  "kernelspec": {
   "display_name": "Python 3 (ipykernel)",
   "language": "python",
   "name": "python3"
  },
  "language_info": {
   "codemirror_mode": {
    "name": "ipython",
    "version": 3
   },
   "file_extension": ".py",
   "mimetype": "text/x-python",
   "name": "python",
   "nbconvert_exporter": "python",
   "pygments_lexer": "ipython3",
   "version": "3.11.3"
  }
 },
 "nbformat": 4,
 "nbformat_minor": 5
}
