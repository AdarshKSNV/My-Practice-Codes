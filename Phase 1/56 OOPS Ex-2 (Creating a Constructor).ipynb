{
 "cells": [
  {
   "cell_type": "code",
   "execution_count": 9,
   "id": "0fd3fe8c",
   "metadata": {},
   "outputs": [
    {
     "name": "stdout",
     "output_type": "stream",
     "text": [
      "The features of F15 room\n",
      "The Area of the room is: 750 sqft\n",
      "The color of the light is: red\n",
      "The speed of the fan is: 5\n",
      "The outside temperature is: 38\n",
      "The inside temperature is: 16\n",
      "The difference is: 22\n",
      "The fan speed is: 5\n"
     ]
    }
   ],
   "source": [
    "class f15():\n",
    "    def __init__(self):\n",
    "        print(\"The features of F15 room\")\n",
    "        x=25\n",
    "        y=30\n",
    "        print(\"The Area of the room is:\",x*y,\"sqft\")\n",
    "    \n",
    "    def light(axarsh,color):\n",
    "        print(\"The color of the light is:\",color)\n",
    "        \n",
    "    def fan(adarsh,speed):\n",
    "        adarsh.c=speed\n",
    "        print(\"The speed of the fan is:\",speed)\n",
    "        \n",
    "    def ac(adarsh,inside,out):\n",
    "        adarsh.a=out\n",
    "        adarsh.b=inside\n",
    "        print(\"The outside temperature is:\",out)\n",
    "        print(\"The inside temperature is:\",inside)\n",
    "        \n",
    "    def display(adarsh):\n",
    "        final=adarsh.a-adarsh.b\n",
    "        print(\"The difference is:\",final)\n",
    "        print(\"The fan speed is:\",adarsh.c)\n",
    "\n",
    "obj=f15()\n",
    "obj.light(\"red\")\n",
    "obj.fan(5)\n",
    "obj.ac(16,38)\n",
    "obj.display()"
   ]
  },
  {
   "cell_type": "code",
   "execution_count": null,
   "id": "8caac55f",
   "metadata": {},
   "outputs": [],
   "source": []
  }
 ],
 "metadata": {
  "kernelspec": {
   "display_name": "Python 3 (ipykernel)",
   "language": "python",
   "name": "python3"
  },
  "language_info": {
   "codemirror_mode": {
    "name": "ipython",
    "version": 3
   },
   "file_extension": ".py",
   "mimetype": "text/x-python",
   "name": "python",
   "nbconvert_exporter": "python",
   "pygments_lexer": "ipython3",
   "version": "3.11.3"
  }
 },
 "nbformat": 4,
 "nbformat_minor": 5
}
