{
 "cells": [
  {
   "cell_type": "markdown",
   "id": "a109c87e",
   "metadata": {},
   "source": [
    "arr=[1,4,4,4,9,13,15,15]\n",
    "Using Binary Search find the first and last occurence of 4 and 15 in python"
   ]
  },
  {
   "cell_type": "code",
   "execution_count": 1,
   "id": "5794646a",
   "metadata": {},
   "outputs": [
    {
     "name": "stdout",
     "output_type": "stream",
     "text": [
      "First occurrence of 4: 1\n",
      "Last occurrence of 4: 3\n",
      "First occurrence of 15: 6\n",
      "Last occurrence of 15: 7\n"
     ]
    }
   ],
   "source": [
    "def find_first_occurrence(arr, target):\n",
    "    low = 0\n",
    "    high = len(arr) - 1\n",
    "    result = -1\n",
    "\n",
    "    while low <= high:\n",
    "        mid = (low + high) // 2\n",
    "        if arr[mid] == target:\n",
    "            result = mid\n",
    "            high = mid - 1\n",
    "        elif arr[mid] < target:\n",
    "            low = mid + 1\n",
    "        else:\n",
    "            high = mid - 1\n",
    "\n",
    "    return result\n",
    "\n",
    "def find_last_occurrence(arr, target):\n",
    "    low = 0\n",
    "    high = len(arr) - 1\n",
    "    result = -1\n",
    "\n",
    "    while low <= high:\n",
    "        mid = (low + high) // 2\n",
    "        if arr[mid] == target:\n",
    "            result = mid\n",
    "            low = mid + 1\n",
    "        elif arr[mid] < target:\n",
    "            low = mid + 1\n",
    "        else:\n",
    "            high = mid - 1\n",
    "\n",
    "    return result\n",
    "\n",
    "arr = [1, 4, 4, 4, 9, 13, 15, 15]\n",
    "\n",
    "first_occurrence_4 = find_first_occurrence(arr, 4)\n",
    "first_occurrence_15 = find_first_occurrence(arr, 15)\n",
    "\n",
    "last_occurrence_4 = find_last_occurrence(arr, 4)\n",
    "last_occurrence_15 = find_last_occurrence(arr, 15)\n",
    "\n",
    "print(\"First occurrence of 4:\", first_occurrence_4)\n",
    "print(\"Last occurrence of 4:\", last_occurrence_4)\n",
    "print(\"First occurrence of 15:\", first_occurrence_15)\n",
    "print(\"Last occurrence of 15:\", last_occurrence_15)"
   ]
  },
  {
   "cell_type": "code",
   "execution_count": null,
   "id": "0c7c83da",
   "metadata": {},
   "outputs": [],
   "source": []
  }
 ],
 "metadata": {
  "kernelspec": {
   "display_name": "Python 3 (ipykernel)",
   "language": "python",
   "name": "python3"
  },
  "language_info": {
   "codemirror_mode": {
    "name": "ipython",
    "version": 3
   },
   "file_extension": ".py",
   "mimetype": "text/x-python",
   "name": "python",
   "nbconvert_exporter": "python",
   "pygments_lexer": "ipython3",
   "version": "3.11.3"
  }
 },
 "nbformat": 4,
 "nbformat_minor": 5
}
