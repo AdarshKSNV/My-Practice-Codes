{
 "cells": [
  {
   "cell_type": "code",
   "execution_count": 1,
   "id": "bf3594a0",
   "metadata": {},
   "outputs": [
    {
     "name": "stdout",
     "output_type": "stream",
     "text": [
      "Before sorting: [250, 40, 130, 20, 10, 96]\n",
      "After sorting: [10, 20, 40, 96, 130, 250]\n"
     ]
    }
   ],
   "source": [
    "def bubble_sort(arr):\n",
    "    \n",
    "    for i in range(0,len(arr)-1):\n",
    "        for j in range(len(arr)-1):\n",
    "            if(arr[j]>arr[j+1]):\n",
    "                temp=arr[j]\n",
    "                arr[j]=arr[j+1]\n",
    "                arr[j+1]=temp\n",
    "    return arr\n",
    "\n",
    "arr=[250,40,130,20,10,96]\n",
    "print(\"Before sorting:\",arr)\n",
    "print(\"After sorting:\",bubble_sort(arr))"
   ]
  },
  {
   "cell_type": "code",
   "execution_count": null,
   "id": "201a173d",
   "metadata": {},
   "outputs": [],
   "source": []
  }
 ],
 "metadata": {
  "kernelspec": {
   "display_name": "Python 3 (ipykernel)",
   "language": "python",
   "name": "python3"
  },
  "language_info": {
   "codemirror_mode": {
    "name": "ipython",
    "version": 3
   },
   "file_extension": ".py",
   "mimetype": "text/x-python",
   "name": "python",
   "nbconvert_exporter": "python",
   "pygments_lexer": "ipython3",
   "version": "3.11.4"
  }
 },
 "nbformat": 4,
 "nbformat_minor": 5
}
