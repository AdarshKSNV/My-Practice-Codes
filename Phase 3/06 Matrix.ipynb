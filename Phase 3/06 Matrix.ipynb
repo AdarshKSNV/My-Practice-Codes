{
 "cells": [
  {
   "cell_type": "code",
   "execution_count": 10,
   "id": "aa62da0c-b7b8-4d69-9c63-83ed16804d79",
   "metadata": {},
   "outputs": [
    {
     "name": "stdin",
     "output_type": "stream",
     "text": [
      " 1\n",
      " 2\n",
      " 3\n",
      " 4\n",
      " 5\n",
      " 6\n",
      " 7\n",
      " 8\n",
      " 9\n"
     ]
    },
    {
     "name": "stdout",
     "output_type": "stream",
     "text": [
      "1 2 3 \n",
      "4 5 6 \n",
      "7 8 9 \n"
     ]
    }
   ],
   "source": [
    "Rows =3\n",
    "Columns =3\n",
    "matrix = []\n",
    "for i in range(Rows):\n",
    "\ta =[]\n",
    "\tfor j in range(Columns):\n",
    "\t\ta.append(int(input()))\n",
    "\tmatrix.append(a)\n",
    "\n",
    "for i in range(Rows):\n",
    "\tfor j in range(Columns):\n",
    "\t\tprint(matrix[i][j], end = \" \")\n",
    "\tprint()"
   ]
  },
  {
   "cell_type": "code",
   "execution_count": null,
   "id": "36f1f166-b767-4e4e-82e0-1962a813a442",
   "metadata": {},
   "outputs": [],
   "source": []
  }
 ],
 "metadata": {
  "kernelspec": {
   "display_name": "Python 3 (ipykernel)",
   "language": "python",
   "name": "python3"
  },
  "language_info": {
   "codemirror_mode": {
    "name": "ipython",
    "version": 3
   },
   "file_extension": ".py",
   "mimetype": "text/x-python",
   "name": "python",
   "nbconvert_exporter": "python",
   "pygments_lexer": "ipython3",
   "version": "3.11.3"
  }
 },
 "nbformat": 4,
 "nbformat_minor": 5
}
