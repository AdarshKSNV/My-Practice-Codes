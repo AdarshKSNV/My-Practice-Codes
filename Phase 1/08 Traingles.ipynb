{
 "cells": [
  {
   "cell_type": "markdown",
   "id": "fc81ac14",
   "metadata": {},
   "source": [
    "// WRITE A PROGRAM TO CHECK THE TYPE OF TRAINGLE WHERE U TAKE THE INPUT FROM THE USER FOR THREE SIDES AND CLASSIFY IT ACCORDING INTO EQUILATERAL ISOCELES AND SCALENE"
   ]
  },
  {
   "cell_type": "code",
   "execution_count": 1,
   "id": "ed135b3e",
   "metadata": {},
   "outputs": [
    {
     "name": "stdout",
     "output_type": "stream",
     "text": [
      "Enter the length 1: 5\n",
      "Enter the length 2: 5\n",
      "Enter the length 3: 5\n",
      "Equilateral traingle\n"
     ]
    }
   ],
   "source": [
    "a=int(input(\"Enter the length 1: \"))\n",
    "b=int(input(\"Enter the length 2: \"))\n",
    "c=int(input(\"Enter the length 3: \"))\n",
    "\n",
    "if(a==b==c):\n",
    "    print(\"Equilateral traingle\")\n",
    "elif(a==b or a==c):\n",
    "    print(\"Isoceles traingle\")\n",
    "else:\n",
    "    print(\"Scalene Traingle\")"
   ]
  },
  {
   "cell_type": "code",
   "execution_count": 2,
   "id": "9823e23e",
   "metadata": {},
   "outputs": [
    {
     "name": "stdout",
     "output_type": "stream",
     "text": [
      "Enter the length 1: 5\n",
      "Enter the length 2: 5\n",
      "Enter the length 3: 10\n",
      "Isoceles traingle\n"
     ]
    }
   ],
   "source": [
    "a=int(input(\"Enter the length 1: \"))\n",
    "b=int(input(\"Enter the length 2: \"))\n",
    "c=int(input(\"Enter the length 3: \"))\n",
    "\n",
    "if(a==b==c):\n",
    "    print(\"Equilateral traingle\")\n",
    "elif(a==b or a==c):\n",
    "    print(\"Isoceles traingle\")\n",
    "else:\n",
    "    print(\"Scalene Traingle\")"
   ]
  },
  {
   "cell_type": "code",
   "execution_count": 3,
   "id": "739079e8",
   "metadata": {},
   "outputs": [
    {
     "name": "stdout",
     "output_type": "stream",
     "text": [
      "Enter the length 1: 5\n",
      "Enter the length 2: 3\n",
      "Enter the length 3: 4\n",
      "Scalene Traingle\n"
     ]
    }
   ],
   "source": [
    "a=int(input(\"Enter the length 1: \"))\n",
    "b=int(input(\"Enter the length 2: \"))\n",
    "c=int(input(\"Enter the length 3: \"))\n",
    "\n",
    "if(a==b==c):\n",
    "    print(\"Equilateral traingle\")\n",
    "elif(a==b or a==c):\n",
    "    print(\"Isoceles traingle\")\n",
    "else:\n",
    "    print(\"Scalene Traingle\")"
   ]
  },
  {
   "cell_type": "code",
   "execution_count": null,
   "id": "f27faef1",
   "metadata": {},
   "outputs": [],
   "source": []
  }
 ],
 "metadata": {
  "kernelspec": {
   "display_name": "Python 3 (ipykernel)",
   "language": "python",
   "name": "python3"
  },
  "language_info": {
   "codemirror_mode": {
    "name": "ipython",
    "version": 3
   },
   "file_extension": ".py",
   "mimetype": "text/x-python",
   "name": "python",
   "nbconvert_exporter": "python",
   "pygments_lexer": "ipython3",
   "version": "3.11.3"
  }
 },
 "nbformat": 4,
 "nbformat_minor": 5
}
