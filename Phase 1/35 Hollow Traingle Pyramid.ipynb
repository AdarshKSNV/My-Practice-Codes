{
 "cells": [
  {
   "cell_type": "code",
   "execution_count": 18,
   "id": "c2490d27",
   "metadata": {},
   "outputs": [
    {
     "name": "stdout",
     "output_type": "stream",
     "text": [
      "      * \n",
      "    *   * \n",
      "  *       * \n",
      "* * * * * * * \n"
     ]
    }
   ],
   "source": [
    "rows=4\n",
    "for i in range(1, rows + 1):\n",
    "    for j in range(1, 2 * rows):\n",
    "        if j <= rows - i:\n",
    "            print(\" \", end=\" \")\n",
    "        elif j >= rows + i:\n",
    "            break\n",
    "        else:\n",
    "            if i == rows or j == rows - i + 1 or j == rows + i - 1:\n",
    "                print(\"*\", end=\" \")\n",
    "            else:\n",
    "                print(\" \",end=\" \")\n",
    "    print()"
   ]
  },
  {
   "cell_type": "code",
   "execution_count": null,
   "id": "db5b9da7",
   "metadata": {},
   "outputs": [],
   "source": []
  }
 ],
 "metadata": {
  "kernelspec": {
   "display_name": "Python 3 (ipykernel)",
   "language": "python",
   "name": "python3"
  },
  "language_info": {
   "codemirror_mode": {
    "name": "ipython",
    "version": 3
   },
   "file_extension": ".py",
   "mimetype": "text/x-python",
   "name": "python",
   "nbconvert_exporter": "python",
   "pygments_lexer": "ipython3",
   "version": "3.11.3"
  }
 },
 "nbformat": 4,
 "nbformat_minor": 5
}
