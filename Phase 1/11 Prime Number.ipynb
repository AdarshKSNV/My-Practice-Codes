{
 "cells": [
  {
   "cell_type": "markdown",
   "id": "b8ce9604",
   "metadata": {},
   "source": [
    "//check whether prime or not"
   ]
  },
  {
   "cell_type": "code",
   "execution_count": 7,
   "id": "d5b8afcf",
   "metadata": {},
   "outputs": [
    {
     "name": "stdout",
     "output_type": "stream",
     "text": [
      "Enter the number:20\n",
      "Not a prime number\n"
     ]
    }
   ],
   "source": [
    "num=int(input(\"Enter the number:\"))\n",
    "a=True\n",
    "\n",
    "if(num<2):\n",
    "    a=False\n",
    "for i in range(2,num):\n",
    "    if(num%i==0):\n",
    "        a=False\n",
    "    \n",
    "if a:\n",
    "    print(\"Prime Number\")\n",
    "else:\n",
    "    print(\"Not a prime number\")"
   ]
  },
  {
   "cell_type": "code",
   "execution_count": 8,
   "id": "687115c8",
   "metadata": {},
   "outputs": [
    {
     "name": "stdout",
     "output_type": "stream",
     "text": [
      "Enter the number:77\n",
      "Not a prime number\n"
     ]
    }
   ],
   "source": [
    "num=int(input(\"Enter the number:\"))\n",
    "a=True\n",
    "\n",
    "if(num<2):\n",
    "    a=False\n",
    "for i in range(2,int(num**0.5)+1):\n",
    "    if(num%i==0):\n",
    "        a=False\n",
    "    \n",
    "if a:\n",
    "    print(\"Prime Number\")\n",
    "else:\n",
    "    print(\"Not a prime number\")"
   ]
  },
  {
   "cell_type": "code",
   "execution_count": null,
   "id": "512d629c",
   "metadata": {},
   "outputs": [],
   "source": []
  }
 ],
 "metadata": {
  "kernelspec": {
   "display_name": "Python 3 (ipykernel)",
   "language": "python",
   "name": "python3"
  },
  "language_info": {
   "codemirror_mode": {
    "name": "ipython",
    "version": 3
   },
   "file_extension": ".py",
   "mimetype": "text/x-python",
   "name": "python",
   "nbconvert_exporter": "python",
   "pygments_lexer": "ipython3",
   "version": "3.11.3"
  }
 },
 "nbformat": 4,
 "nbformat_minor": 5
}
