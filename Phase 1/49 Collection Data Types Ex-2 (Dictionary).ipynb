{
 "cells": [
  {
   "cell_type": "code",
   "execution_count": 3,
   "id": "4c70c0f4",
   "metadata": {},
   "outputs": [
    {
     "name": "stdout",
     "output_type": "stream",
     "text": [
      "{'name': 'Adarsh', 'age': 20, 'city': 'kkd', 'country': 'India'}\n"
     ]
    }
   ],
   "source": [
    "dict = {\n",
    "    \"name\": \"Adarsh\",\n",
    "    \"age\": 20,\n",
    "    \"city\": \"kkd\",\n",
    "    \"country\": \"India\"\n",
    "}\n",
    "\n",
    "print(dict)\n"
   ]
  },
  {
   "cell_type": "code",
   "execution_count": 4,
   "id": "9c712601",
   "metadata": {},
   "outputs": [
    {
     "name": "stdout",
     "output_type": "stream",
     "text": [
      "Adarsh\n",
      "20\n",
      "kkd\n",
      "India\n"
     ]
    }
   ],
   "source": [
    "dict = {\n",
    "    \"name\": \"Adarsh\",\n",
    "    \"age\": 20,\n",
    "    \"city\": \"kkd\",\n",
    "    \"country\": \"India\"\n",
    "}\n",
    "\n",
    "print(dict[\"name\"])\n",
    "print(dict[\"age\"])\n",
    "print(dict[\"city\"])\n",
    "print(dict[\"country\"])\n"
   ]
  },
  {
   "cell_type": "code",
   "execution_count": 6,
   "id": "8ad3b242",
   "metadata": {},
   "outputs": [
    {
     "name": "stdout",
     "output_type": "stream",
     "text": [
      "name : Adarsh\n",
      "age : 20\n",
      "city : kkd\n",
      "country : India\n"
     ]
    }
   ],
   "source": [
    "dict = {\n",
    "    \"name\": \"Adarsh\",\n",
    "    \"age\": 20,\n",
    "    \"city\": \"kkd\",\n",
    "    \"country\": \"India\"\n",
    "}\n",
    "\n",
    "for key in dict:\n",
    "    print(key, \":\",dict[key])\n"
   ]
  },
  {
   "cell_type": "code",
   "execution_count": 7,
   "id": "9b1f5c61",
   "metadata": {},
   "outputs": [
    {
     "name": "stdout",
     "output_type": "stream",
     "text": [
      "{'name': 'Adarsh', 'city': 'kkd', 'country': 'India'}\n"
     ]
    }
   ],
   "source": [
    "dict = {\n",
    "    \"name\": \"Adarsh\",\n",
    "    \"age\": 20,\n",
    "    \"city\": \"kkd\",\n",
    "    \"country\": \"India\"\n",
    "}\n",
    "\n",
    "del dict[\"age\"]\n",
    "print(dict)\n"
   ]
  },
  {
   "cell_type": "code",
   "execution_count": 11,
   "id": "aaff7877",
   "metadata": {},
   "outputs": [
    {
     "name": "stdout",
     "output_type": "stream",
     "text": [
      "{'key1': 'Adarsh', 'key2': 'K', 'key3': 'Adarsh', 'key4': 'K'}\n"
     ]
    }
   ],
   "source": [
    "dict = {\n",
    "    \"key1\": \"Adarsh\",\n",
    "    \"key2\": \"K\",\n",
    "    \"key3\": \"Adarsh\",\n",
    "    \"key4\": \"K\"\n",
    "}\n",
    "    ``\n",
    "print(dict)\n"
   ]
  },
  {
   "cell_type": "code",
   "execution_count": 12,
   "id": "98051819",
   "metadata": {},
   "outputs": [
    {
     "name": "stdout",
     "output_type": "stream",
     "text": [
      "{'key1': 'Adarsh', 'key2': 'K'}\n"
     ]
    }
   ],
   "source": [
    "dict = {\n",
    "    \"key1\": \"Adarsh\",\n",
    "    \"key2\": \"K\",\n",
    "    \"key1\": \"Adarsh\",\n",
    "    \"key2\": \"K\"\n",
    "}\n",
    "\n",
    "print(dict)\n"
   ]
  },
  {
   "cell_type": "code",
   "execution_count": null,
   "id": "a1538eb2",
   "metadata": {},
   "outputs": [],
   "source": []
  }
 ],
 "metadata": {
  "kernelspec": {
   "display_name": "Python 3 (ipykernel)",
   "language": "python",
   "name": "python3"
  },
  "language_info": {
   "codemirror_mode": {
    "name": "ipython",
    "version": 3
   },
   "file_extension": ".py",
   "mimetype": "text/x-python",
   "name": "python",
   "nbconvert_exporter": "python",
   "pygments_lexer": "ipython3",
   "version": "3.11.3"
  }
 },
 "nbformat": 4,
 "nbformat_minor": 5
}
