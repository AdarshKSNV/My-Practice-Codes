{
 "cells": [
  {
   "cell_type": "code",
   "execution_count": 3,
   "id": "e9d5a745",
   "metadata": {},
   "outputs": [
    {
     "name": "stdout",
     "output_type": "stream",
     "text": [
      "The sum of Minimum and Maximum is: 140\n",
      "Updated list: [12, 42, 23, 96, 126, 18, 10, 140]\n"
     ]
    }
   ],
   "source": [
    "list=[12,42,23,96,7,18,10,133]\n",
    "min=list[0]\n",
    "max=list[0]\n",
    "for i in range(len(list)):\n",
    "    if min>list[i]:\n",
    "        min=list[i]\n",
    "        minid=i\n",
    "    if max<list[i]:\n",
    "        max=list[i]\n",
    "        maxid=i\n",
    "sum=min+max\n",
    "diff=max-min\n",
    "list[maxid]=sum\n",
    "list[minid]=diff\n",
    "print(\"The sum of Minimum and Maximum is:\",sum)\n",
    "print(\"Updated list:\",list)"
   ]
  },
  {
   "cell_type": "code",
   "execution_count": null,
   "id": "5ade0c56",
   "metadata": {},
   "outputs": [],
   "source": []
  }
 ],
 "metadata": {
  "kernelspec": {
   "display_name": "Python 3 (ipykernel)",
   "language": "python",
   "name": "python3"
  },
  "language_info": {
   "codemirror_mode": {
    "name": "ipython",
    "version": 3
   },
   "file_extension": ".py",
   "mimetype": "text/x-python",
   "name": "python",
   "nbconvert_exporter": "python",
   "pygments_lexer": "ipython3",
   "version": "3.11.3"
  }
 },
 "nbformat": 4,
 "nbformat_minor": 5
}
