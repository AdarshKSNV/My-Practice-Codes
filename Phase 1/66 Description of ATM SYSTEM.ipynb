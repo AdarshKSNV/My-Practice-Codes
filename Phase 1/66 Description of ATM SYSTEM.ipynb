{
 "cells": [
  {
   "cell_type": "markdown",
   "id": "78601dbe",
   "metadata": {},
   "source": [
    "//Create an ATM SYSTEM\n",
    "// TASK 1 Give the user to select the card options\n",
    "//TASK 2 DISPLAYING THE REMAINING BALANCE IN THE ATM\n",
    "//TASK 3 AUTHENTICATION OF THE USER(USERNAME==PASSWORD). If the user is autheneticated then give him the following options to choose\n",
    "1.Check balance\n",
    "2.Cash Withdrawal(if limit is exceeded print the atm does not cash)\n",
    "3.Cash Deposit\n",
    "after the cash withdrwal and deposit it must show the balance\n",
    "4.Mini statement of the last three transactions\n",
    "5.Card Renewal"
   ]
  }
 ],
 "metadata": {
  "kernelspec": {
   "display_name": "Python 3 (ipykernel)",
   "language": "python",
   "name": "python3"
  },
  "language_info": {
   "codemirror_mode": {
    "name": "ipython",
    "version": 3
   },
   "file_extension": ".py",
   "mimetype": "text/x-python",
   "name": "python",
   "nbconvert_exporter": "python",
   "pygments_lexer": "ipython3",
   "version": "3.11.3"
  }
 },
 "nbformat": 4,
 "nbformat_minor": 5
}
