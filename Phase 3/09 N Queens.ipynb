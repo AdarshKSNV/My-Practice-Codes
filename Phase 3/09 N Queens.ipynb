{
 "cells": [
  {
   "cell_type": "code",
   "execution_count": null,
   "id": "d119ca0e-e7d9-420f-980d-38e0598d82e8",
   "metadata": {},
   "outputs": [],
   "source": [
    "class Solution:\n",
    "    def solveNQueens(self, n: int) -> List[List[str]]:\n",
    "        board = [['.' for j in range(n)] for i in range(n)]\n",
    "        cols,pos,neg = set(),set(),set()\n",
    "        res = []\n",
    "\n",
    "        def backtrack(r):\n",
    "            if r==n:\n",
    "                copy = [''.join(row) for row in board]\n",
    "                res.append(copy)\n",
    "                return\n",
    "\n",
    "            for c in range(n):\n",
    "                if c in cols or (r+c) in pos or (r-c) in neg:\n",
    "                    continue\n",
    "\n",
    "                cols.add(c)\n",
    "                pos.add(r+c)\n",
    "                neg.add(r-c)\n",
    "                board[r][c]='Q'\n",
    "                backtrack(r+1)\n",
    "                cols.remove(c)\n",
    "                pos.remove(r+c)\n",
    "                neg.remove(r-c)\n",
    "                board[r][c]='.'\n",
    "\n",
    "        backtrack(0)\n",
    "        return res"
   ]
  }
 ],
 "metadata": {
  "kernelspec": {
   "display_name": "Python 3 (ipykernel)",
   "language": "python",
   "name": "python3"
  },
  "language_info": {
   "codemirror_mode": {
    "name": "ipython",
    "version": 3
   },
   "file_extension": ".py",
   "mimetype": "text/x-python",
   "name": "python",
   "nbconvert_exporter": "python",
   "pygments_lexer": "ipython3",
   "version": "3.11.3"
  }
 },
 "nbformat": 4,
 "nbformat_minor": 5
}
