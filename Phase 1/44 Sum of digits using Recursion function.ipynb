{
 "cells": [
  {
   "cell_type": "markdown",
   "id": "84ed9fd6",
   "metadata": {},
   "source": [
    "Write a recursive function to calculate the sum of digits of a number\n"
   ]
  },
  {
   "cell_type": "code",
   "execution_count": 9,
   "id": "b04786d6",
   "metadata": {},
   "outputs": [
    {
     "data": {
      "text/plain": [
       "15"
      ]
     },
     "execution_count": 9,
     "metadata": {},
     "output_type": "execute_result"
    }
   ],
   "source": [
    "def sum(n):\n",
    "    if n<10:\n",
    "        return n\n",
    "    else:\n",
    "        num=n%10\n",
    "        return num+sum(n//10)\n",
    "n=12345\n",
    "sum(n)"
   ]
  }
 ],
 "metadata": {
  "kernelspec": {
   "display_name": "Python 3 (ipykernel)",
   "language": "python",
   "name": "python3"
  },
  "language_info": {
   "codemirror_mode": {
    "name": "ipython",
    "version": 3
   },
   "file_extension": ".py",
   "mimetype": "text/x-python",
   "name": "python",
   "nbconvert_exporter": "python",
   "pygments_lexer": "ipython3",
   "version": "3.11.3"
  }
 },
 "nbformat": 4,
 "nbformat_minor": 5
}
