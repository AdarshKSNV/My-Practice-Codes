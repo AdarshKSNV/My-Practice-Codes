{
 "cells": [
  {
   "cell_type": "code",
   "execution_count": 34,
   "id": "a2f00595",
   "metadata": {},
   "outputs": [
    {
     "name": "stdout",
     "output_type": "stream",
     "text": [
      "Before\n",
      "Stack Elements:\n",
      "5\n",
      "4\n",
      "3\n",
      "2\n",
      "1\n",
      "After\n",
      "1\n",
      "2\n",
      "3\n",
      "4\n",
      "5\n",
      "Empty Stack\n",
      "None\n"
     ]
    }
   ],
   "source": [
    "class Stack:\n",
    "    def __init__(self):\n",
    "        self.stack = []\n",
    "\n",
    "    def push(self, item):\n",
    "        self.stack.append(item)\n",
    "\n",
    "    def pop(self):\n",
    "        if self.is_empty():\n",
    "            print(\"Empty Stack\")\n",
    "            return None\n",
    "        return self.stack.pop()\n",
    "\n",
    "    def top(self):\n",
    "        if self.is_empty():\n",
    "            print(\"Empty Stack\")\n",
    "            return None\n",
    "        return self.stack[-1]\n",
    "\n",
    "    def size(self):\n",
    "        return len(self.stack)\n",
    "\n",
    "    def reverse(self):\n",
    "        if not self.is_empty():\n",
    "            popped = self.pop()\n",
    "            self.reverse()\n",
    "            print(popped)\n",
    "            \n",
    "    def is_empty(self):\n",
    "        return self.size() == 0\n",
    "\n",
    "    def display(self):\n",
    "        if self.is_empty():\n",
    "            print(\"Stack is Empty\")\n",
    "        else:\n",
    "            print(\"Stack Elements:\")\n",
    "            for item in reversed(self.stack):\n",
    "                print(item)\n",
    "\n",
    "\n",
    "s = Stack()\n",
    "s.push(1)\n",
    "s.push(2)\n",
    "s.push(3)\n",
    "s.push(4)\n",
    "s.push(5)\n",
    "\n",
    "print(\"Before\")\n",
    "s.display()\n",
    "\n",
    "print(\"After\")\n",
    "s.reverse()\n",
    "\n",
    "while not s.is_empty():\n",
    "    print(s.pop())\n",
    "\n",
    "print(s.top())\n"
   ]
  },
  {
   "cell_type": "code",
   "execution_count": null,
   "id": "8a359736-9637-4b30-97a8-30e6d5700373",
   "metadata": {},
   "outputs": [],
   "source": []
  }
 ],
 "metadata": {
  "kernelspec": {
   "display_name": "Python 3 (ipykernel)",
   "language": "python",
   "name": "python3"
  },
  "language_info": {
   "codemirror_mode": {
    "name": "ipython",
    "version": 3
   },
   "file_extension": ".py",
   "mimetype": "text/x-python",
   "name": "python",
   "nbconvert_exporter": "python",
   "pygments_lexer": "ipython3",
   "version": "3.11.3"
  }
 },
 "nbformat": 4,
 "nbformat_minor": 5
}
