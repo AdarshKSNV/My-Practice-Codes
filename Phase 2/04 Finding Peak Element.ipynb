{
 "cells": [
  {
   "cell_type": "code",
   "execution_count": null,
   "id": "2ebdf76a",
   "metadata": {},
   "outputs": [],
   "source": [
    "arr=[1,3,6,7,9,5,2]\n",
    "Keep the array Unsorted and Apply binary search and you have to find the peak element in python\n"
   ]
  },
  {
   "cell_type": "code",
   "execution_count": 9,
   "id": "6d94b64e",
   "metadata": {},
   "outputs": [
    {
     "name": "stdout",
     "output_type": "stream",
     "text": [
      "The peak element in the array is: 8\n"
     ]
    }
   ],
   "source": [
    "def find_peak(arr):\n",
    "    low = 0\n",
    "    high = len(arr) - 1\n",
    "\n",
    "    while low <= high:\n",
    "        mid = (low + high) // 2\n",
    "\n",
    "        if (arr[mid] >= arr[mid - 1]) and (arr[mid] >= arr[mid + 1]):\n",
    "            return arr[mid]\n",
    "        \n",
    "        elif arr[mid] < arr[mid - 1]:\n",
    "            high = mid - 1\n",
    "\n",
    "        else:\n",
    "            low = mid + 1\n",
    "\n",
    "    return -1\n",
    "\n",
    "arr = [10,12,5,8,4,13,16]\n",
    "peak = find_peak(arr)\n",
    "print(\"The peak element in the array is:\", peak)\n"
   ]
  },
  {
   "cell_type": "code",
   "execution_count": 15,
   "id": "980d77b0",
   "metadata": {},
   "outputs": [
    {
     "name": "stdout",
     "output_type": "stream",
     "text": [
      "The peak element in the array is: 9\n"
     ]
    }
   ],
   "source": [
    "def find_peak(arr):\n",
    "    low = 0\n",
    "    high = len(arr) - 1\n",
    "\n",
    "    while low <= high:\n",
    "        mid = (low + high) // 2\n",
    "\n",
    "        if (arr[mid] >= arr[mid - 1]) and (arr[mid] >= arr[mid + 1]):\n",
    "            return arr[mid]\n",
    "        \n",
    "        elif arr[mid] < arr[mid - 1]:\n",
    "            high = mid - 1\n",
    "\n",
    "        else:\n",
    "            low = mid + 1\n",
    "\n",
    "    return -1\n",
    "\n",
    "arr = [1,3,6,7,9,5,2]\n",
    "peak = find_peak(arr)\n",
    "print(\"The peak element in the array is:\", peak)"
   ]
  },
  {
   "cell_type": "code",
   "execution_count": null,
   "id": "2e0d6fa6",
   "metadata": {},
   "outputs": [],
   "source": []
  }
 ],
 "metadata": {
  "kernelspec": {
   "display_name": "Python 3 (ipykernel)",
   "language": "python",
   "name": "python3"
  },
  "language_info": {
   "codemirror_mode": {
    "name": "ipython",
    "version": 3
   },
   "file_extension": ".py",
   "mimetype": "text/x-python",
   "name": "python",
   "nbconvert_exporter": "python",
   "pygments_lexer": "ipython3",
   "version": "3.11.3"
  }
 },
 "nbformat": 4,
 "nbformat_minor": 5
}
