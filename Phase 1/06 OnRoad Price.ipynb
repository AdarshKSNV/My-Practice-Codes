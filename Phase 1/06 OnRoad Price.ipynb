{
 "cells": [
  {
   "cell_type": "markdown",
   "id": "8d31b4d3",
   "metadata": {},
   "source": [
    "write a program to check the on road price of a bike under the conditions \n",
    "01 if the price is greater then 72000 and less than 150000 income tax is 10% of original price and insurance will be 15% of actual price\n",
    "02 if the price is greater then 150000 and less than 200000 then income tax is 25% and the insurance will be 25%\n",
    "03 if the price is above 200000 then tax will be 35% and insurance will be 28%\n",
    "04 otherwise if minimum price will be start from 72000 enter valid value\n",
    "onroad price = actual price+ tax+insurance according to limit\n"
   ]
  },
  {
   "cell_type": "code",
   "execution_count": 11,
   "id": "30857bf5",
   "metadata": {},
   "outputs": [
    {
     "name": "stdout",
     "output_type": "stream",
     "text": [
      "Enter the Amount:200001\n",
      "326001.63\n"
     ]
    }
   ],
   "source": [
    "price=int(input(\"Enter the Amount:\"))\n",
    "\n",
    "if(price>72000 and price<150000):\n",
    "    incometax=price*0.10\n",
    "    insurance=price*0.15\n",
    "    onroadprice=price+incometax+insurance\n",
    "    print(onroadprice)\n",
    "\n",
    "elif(price>150000 and price<200000):\n",
    "    incometax=price*0.25\n",
    "    insurance=price*0.25\n",
    "    onroadprice=price+incometax+insurance\n",
    "    print(onroadprice)\n",
    "\n",
    "elif(price>200000):\n",
    "    incometax=price*0.35\n",
    "    insurance=price*0.28\n",
    "    onroadprice=price+incometax+insurance\n",
    "    print(onroadprice)\n",
    "    \n",
    "else:\n",
    "    print(\"Minimum price is 72000 invalid input\")    "
   ]
  },
  {
   "cell_type": "code",
   "execution_count": null,
   "id": "1d555ba6",
   "metadata": {},
   "outputs": [],
   "source": []
  }
 ],
 "metadata": {
  "kernelspec": {
   "display_name": "Python 3 (ipykernel)",
   "language": "python",
   "name": "python3"
  },
  "language_info": {
   "codemirror_mode": {
    "name": "ipython",
    "version": 3
   },
   "file_extension": ".py",
   "mimetype": "text/x-python",
   "name": "python",
   "nbconvert_exporter": "python",
   "pygments_lexer": "ipython3",
   "version": "3.11.3"
  }
 },
 "nbformat": 4,
 "nbformat_minor": 5
}
