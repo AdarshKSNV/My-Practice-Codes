{
 "cells": [
  {
   "cell_type": "markdown",
   "id": "d2ed0ba9",
   "metadata": {},
   "source": [
    "//Take a number input from the user check if the sum of factors of that numbers is greater than the original number"
   ]
  },
  {
   "cell_type": "code",
   "execution_count": 6,
   "id": "e8731557",
   "metadata": {},
   "outputs": [
    {
     "name": "stdout",
     "output_type": "stream",
     "text": [
      "25\n",
      "31\n",
      "Yes\n"
     ]
    }
   ],
   "source": [
    "num = int(input())\n",
    "random=num\n",
    "fact=0\n",
    "i = 1\n",
    "while i<=num:\n",
    "    if num%i==0:\n",
    "        fact=fact+i\n",
    "    i = i+1\n",
    "print(fact)\n",
    "\n",
    "if(fact>num):\n",
    "    print(\"Yes\")\n",
    "else:\n",
    "    print(\"No\")"
   ]
  },
  {
   "cell_type": "code",
   "execution_count": null,
   "id": "21a966df",
   "metadata": {},
   "outputs": [],
   "source": []
  }
 ],
 "metadata": {
  "kernelspec": {
   "display_name": "Python 3 (ipykernel)",
   "language": "python",
   "name": "python3"
  },
  "language_info": {
   "codemirror_mode": {
    "name": "ipython",
    "version": 3
   },
   "file_extension": ".py",
   "mimetype": "text/x-python",
   "name": "python",
   "nbconvert_exporter": "python",
   "pygments_lexer": "ipython3",
   "version": "3.11.3"
  }
 },
 "nbformat": 4,
 "nbformat_minor": 5
}
