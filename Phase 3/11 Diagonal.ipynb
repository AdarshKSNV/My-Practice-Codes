{
 "cells": [
  {
   "cell_type": "code",
   "execution_count": 1,
   "metadata": {},
   "outputs": [
    {
     "name": "stdout",
     "output_type": "stream",
     "text": [
      "Longest diagonal length: 4\n",
      "Centre point: (2, 2)\n"
     ]
    }
   ],
   "source": [
    "def longest_diagonal(matrix):\n",
    "    rows = len(matrix)\n",
    "    cols = len(matrix[0])\n",
    "    \n",
    "    max_diagonal_length = min(rows, cols)\n",
    "    centre_row = rows // 2\n",
    "    centre_col = cols // 2\n",
    "    return max_diagonal_length, (centre_row, centre_col)\n",
    "\n",
    "matrix = [\n",
    "    [1,0,1,0],\n",
    "    [1,1,0,1],\n",
    "    [0,1,0,1],\n",
    "    [0,0,1,1],\n",
    "]\n",
    "\n",
    "longest_diag_length, centre_point = longest_diagonal(matrix)\n",
    "print(\"Longest diagonal length:\", longest_diag_length)\n",
    "print(\"Centre point:\", centre_point)"
   ]
  }
 ],
 "metadata": {
  "kernelspec": {
   "display_name": "Python 3",
   "language": "python",
   "name": "python3"
  },
  "language_info": {
   "codemirror_mode": {
    "name": "ipython",
    "version": 3
   },
   "file_extension": ".py",
   "mimetype": "text/x-python",
   "name": "python",
   "nbconvert_exporter": "python",
   "pygments_lexer": "ipython3",
   "version": "3.11.4"
  }
 },
 "nbformat": 4,
 "nbformat_minor": 2
}
