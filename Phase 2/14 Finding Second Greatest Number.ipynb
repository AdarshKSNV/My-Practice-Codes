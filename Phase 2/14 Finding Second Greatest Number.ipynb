{
 "cells": [
  {
   "cell_type": "markdown",
   "id": "8ae2c80b-14f7-4e51-8c13-2260e0a52278",
   "metadata": {},
   "source": [
    "[2,14,16,1,4,12]\n",
    "output is [14,16,-1,4,12,-1] for every element you have to return next greater element"
   ]
  },
  {
   "cell_type": "code",
   "execution_count": 21,
   "id": "4132d779-ea3b-4c1c-8a3a-de6f41e8a974",
   "metadata": {},
   "outputs": [
    {
     "name": "stdout",
     "output_type": "stream",
     "text": [
      "[29, 46, -1, 21, -1, 16, -1]\n"
     ]
    }
   ],
   "source": [
    "def greater(stack):\n",
    "    n = len(stack)\n",
    "    output = [-1]*n\n",
    "    stack1 = []\n",
    "    for i in range(n):\n",
    "        while stack1 and stack[i] > stack[stack1[-1]]:\n",
    "            output[stack1.pop()] = stack[i]\n",
    "        stack1.append(i)\n",
    " \n",
    "    return output\n",
    "\n",
    "stack = [2,29,46,0,21,0,16]\n",
    "output = greater(stack)\n",
    "print(output)\n"
   ]
  },
  {
   "cell_type": "code",
   "execution_count": null,
   "id": "b659efed-6273-4717-bbe1-1d18b94c727b",
   "metadata": {},
   "outputs": [],
   "source": []
  }
 ],
 "metadata": {
  "kernelspec": {
   "display_name": "Python 3 (ipykernel)",
   "language": "python",
   "name": "python3"
  },
  "language_info": {
   "codemirror_mode": {
    "name": "ipython",
    "version": 3
   },
   "file_extension": ".py",
   "mimetype": "text/x-python",
   "name": "python",
   "nbconvert_exporter": "python",
   "pygments_lexer": "ipython3",
   "version": "3.11.3"
  }
 },
 "nbformat": 4,
 "nbformat_minor": 5
}
