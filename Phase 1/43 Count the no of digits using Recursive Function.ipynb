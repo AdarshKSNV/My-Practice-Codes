{
 "cells": [
  {
   "cell_type": "markdown",
   "id": "a6ee4e13",
   "metadata": {},
   "source": [
    "Write a recursive function to count the no of digits of a number"
   ]
  },
  {
   "cell_type": "code",
   "execution_count": 15,
   "id": "dadd874e",
   "metadata": {},
   "outputs": [
    {
     "data": {
      "text/plain": [
       "1"
      ]
     },
     "execution_count": 15,
     "metadata": {},
     "output_type": "execute_result"
    }
   ],
   "source": [
    "def count(num):\n",
    "    if num<10:\n",
    "        return 1\n",
    "    return 1+ count(num//10)\n",
    "\n",
    "count(0)"
   ]
  },
  {
   "cell_type": "code",
   "execution_count": 16,
   "id": "95e28594",
   "metadata": {},
   "outputs": [
    {
     "data": {
      "text/plain": [
       "0"
      ]
     },
     "execution_count": 16,
     "metadata": {},
     "output_type": "execute_result"
    }
   ],
   "source": [
    "def count(num):\n",
    "    if num==0:\n",
    "        return 0\n",
    "    return 1+ count(num//10)\n",
    "\n",
    "count(0)"
   ]
  },
  {
   "cell_type": "code",
   "execution_count": null,
   "id": "e71cdbd3",
   "metadata": {},
   "outputs": [],
   "source": []
  }
 ],
 "metadata": {
  "kernelspec": {
   "display_name": "Python 3 (ipykernel)",
   "language": "python",
   "name": "python3"
  },
  "language_info": {
   "codemirror_mode": {
    "name": "ipython",
    "version": 3
   },
   "file_extension": ".py",
   "mimetype": "text/x-python",
   "name": "python",
   "nbconvert_exporter": "python",
   "pygments_lexer": "ipython3",
   "version": "3.11.3"
  }
 },
 "nbformat": 4,
 "nbformat_minor": 5
}
