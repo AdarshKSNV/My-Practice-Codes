{
 "cells": [
  {
   "cell_type": "markdown",
   "id": "bdf65756",
   "metadata": {},
   "source": [
    "def funcname:\n",
    "    statements\n",
    "    \n",
    "funcname()"
   ]
  },
  {
   "cell_type": "code",
   "execution_count": 5,
   "id": "74cc60a2",
   "metadata": {},
   "outputs": [
    {
     "name": "stdout",
     "output_type": "stream",
     "text": [
      "THIS IS IT BATCH\n",
      "THIS IS IT BATCH\n"
     ]
    }
   ],
   "source": [
    "def name():\n",
    "    print(\"THIS IS IT BATCH\")\n",
    "\n",
    "name()\n",
    "name()"
   ]
  },
  {
   "cell_type": "markdown",
   "id": "aaea2afc",
   "metadata": {},
   "source": [
    "// Write a function which takes two arguments a and b type cast the value of second argument into integer then multiply both the arguments and print the last digit of the result"
   ]
  },
  {
   "cell_type": "code",
   "execution_count": 8,
   "id": "4f78aff7",
   "metadata": {},
   "outputs": [
    {
     "data": {
      "text/plain": [
       "5"
      ]
     },
     "execution_count": 8,
     "metadata": {},
     "output_type": "execute_result"
    }
   ],
   "source": [
    "def func(a,b):\n",
    "    b=int(b)\n",
    "    c=a*b\n",
    "    rem=c%10\n",
    "    return rem\n",
    "\n",
    "func(5,5.5)"
   ]
  },
  {
   "cell_type": "code",
   "execution_count": null,
   "id": "f0aa6f81",
   "metadata": {},
   "outputs": [],
   "source": []
  }
 ],
 "metadata": {
  "kernelspec": {
   "display_name": "Python 3 (ipykernel)",
   "language": "python",
   "name": "python3"
  },
  "language_info": {
   "codemirror_mode": {
    "name": "ipython",
    "version": 3
   },
   "file_extension": ".py",
   "mimetype": "text/x-python",
   "name": "python",
   "nbconvert_exporter": "python",
   "pygments_lexer": "ipython3",
   "version": "3.11.3"
  }
 },
 "nbformat": 4,
 "nbformat_minor": 5
}
