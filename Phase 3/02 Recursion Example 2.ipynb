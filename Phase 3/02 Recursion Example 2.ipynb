{
 "cells": [
  {
   "cell_type": "code",
   "execution_count": 1,
   "id": "acf5fd10-0712-4145-8744-616737d6da1e",
   "metadata": {},
   "outputs": [
    {
     "name": "stdout",
     "output_type": "stream",
     "text": [
      "Ending line 1\n",
      "Ending line 2\n",
      "1\n",
      "Ending line 3\n",
      "1\n",
      "2\n",
      "Ending line 4\n",
      "1\n",
      "2\n",
      "3\n",
      "Ending line 5\n",
      "1\n",
      "2\n",
      "3\n",
      "4\n",
      "Ending line 6\n",
      "1\n",
      "2\n",
      "3\n",
      "4\n",
      "5\n",
      "Ending line 7\n",
      "1\n",
      "2\n",
      "3\n",
      "4\n",
      "5\n",
      "6\n",
      "Base condition got hit\n",
      "Starting line 7\n",
      "Starting line 6\n",
      "Starting line 5\n",
      "Starting line 4\n",
      "Starting line 3\n",
      "Starting line 2\n",
      "Starting line 1\n"
     ]
    }
   ],
   "source": [
    "def printThis(i,n):\n",
    "    if i>=n:\n",
    "        print(\"Base condition got hit\")\n",
    "        return \n",
    "    print(\"Ending line\",i)\n",
    "    for j in range(1,i):\n",
    "        print(j)\n",
    "    printThis(i+1,n)\n",
    "    print(\"Starting line\",i)\n",
    "printThis(1,8)"
   ]
  },
  {
   "cell_type": "code",
   "execution_count": null,
   "id": "f5a79442-e4f5-4222-aa9b-b06f496195b9",
   "metadata": {},
   "outputs": [],
   "source": []
  }
 ],
 "metadata": {
  "kernelspec": {
   "display_name": "Python 3 (ipykernel)",
   "language": "python",
   "name": "python3"
  },
  "language_info": {
   "codemirror_mode": {
    "name": "ipython",
    "version": 3
   },
   "file_extension": ".py",
   "mimetype": "text/x-python",
   "name": "python",
   "nbconvert_exporter": "python",
   "pygments_lexer": "ipython3",
   "version": "3.11.3"
  }
 },
 "nbformat": 4,
 "nbformat_minor": 5
}
