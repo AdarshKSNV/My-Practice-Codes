{
 "cells": [
  {
   "cell_type": "code",
   "execution_count": 6,
   "id": "f12aa2cf",
   "metadata": {},
   "outputs": [
    {
     "name": "stdout",
     "output_type": "stream",
     "text": [
      "blue\n"
     ]
    }
   ],
   "source": [
    "def func(color):\n",
    "    print(color)\n",
    "\n",
    "func(color=\"blue\")"
   ]
  },
  {
   "cell_type": "code",
   "execution_count": 8,
   "id": "4c07cde5",
   "metadata": {},
   "outputs": [
    {
     "name": "stdout",
     "output_type": "stream",
     "text": [
      "{'color': 'red', 'name': 'Adarsh'}\n"
     ]
    }
   ],
   "source": [
    "def func(**color):\n",
    "    print(color)\n",
    "func(color=\"red\",name=\"Adarsh\")"
   ]
  },
  {
   "cell_type": "code",
   "execution_count": 11,
   "id": "67e56610",
   "metadata": {},
   "outputs": [
    {
     "name": "stdout",
     "output_type": "stream",
     "text": [
      "red adarsh\n",
      "red adarsh\n"
     ]
    }
   ],
   "source": [
    "def func(color,name):\n",
    "    print(color,name)\n",
    "\n",
    "func(color=\"red\",name=\"adarsh\")\n",
    "func(name=\"adarsh\",color=\"red\")"
   ]
  },
  {
   "cell_type": "code",
   "execution_count": null,
   "id": "3e4e0afd",
   "metadata": {},
   "outputs": [],
   "source": []
  }
 ],
 "metadata": {
  "kernelspec": {
   "display_name": "Python 3 (ipykernel)",
   "language": "python",
   "name": "python3"
  },
  "language_info": {
   "codemirror_mode": {
    "name": "ipython",
    "version": 3
   },
   "file_extension": ".py",
   "mimetype": "text/x-python",
   "name": "python",
   "nbconvert_exporter": "python",
   "pygments_lexer": "ipython3",
   "version": "3.11.3"
  }
 },
 "nbformat": 4,
 "nbformat_minor": 5
}
