{
 "cells": [
  {
   "cell_type": "code",
   "execution_count": 5,
   "id": "2045c740",
   "metadata": {},
   "outputs": [
    {
     "name": "stdout",
     "output_type": "stream",
     "text": [
      "Faculty Information: Sandeep IT 123456\n",
      "Faculty Information: Akhil IT 12345\n"
     ]
    }
   ],
   "source": [
    "class faculty:\n",
    "    def __init__(self,fname,dept,id):\n",
    "        self.fname=fname\n",
    "        self.dept=dept\n",
    "        self.id=id\n",
    "    def print(self):\n",
    "        print(\"Faculty Information:\",self.fname,self.dept,self.id)\n",
    "\n",
    "obj=faculty(\"Sandeep\", \"IT\", \"123456\")\n",
    "obj.print()\n",
    "\n",
    "class cse(faculty):\n",
    "    pass\n",
    "\n",
    "obj=cse(\"Akhil\",\"IT\",\"12345\")\n",
    "obj.print()\n",
    "        "
   ]
  },
  {
   "cell_type": "code",
   "execution_count": null,
   "id": "029fc641",
   "metadata": {},
   "outputs": [],
   "source": []
  }
 ],
 "metadata": {
  "kernelspec": {
   "display_name": "Python 3 (ipykernel)",
   "language": "python",
   "name": "python3"
  },
  "language_info": {
   "codemirror_mode": {
    "name": "ipython",
    "version": 3
   },
   "file_extension": ".py",
   "mimetype": "text/x-python",
   "name": "python",
   "nbconvert_exporter": "python",
   "pygments_lexer": "ipython3",
   "version": "3.11.3"
  }
 },
 "nbformat": 4,
 "nbformat_minor": 5
}
