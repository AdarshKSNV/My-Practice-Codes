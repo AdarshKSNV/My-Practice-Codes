{
 "cells": [
  {
   "cell_type": "code",
   "execution_count": 10,
   "id": "9054462e-0c6d-43cd-aa50-62097aadc39a",
   "metadata": {},
   "outputs": [
    {
     "name": "stdout",
     "output_type": "stream",
     "text": [
      "True\n"
     ]
    }
   ],
   "source": [
    "def isValid(s):\n",
    "    if s is None:\n",
    "        return True\n",
    "    stack=[]\n",
    "    for t in s:\n",
    "        if t == ')':\n",
    "            if not stack or stack.pop() != '(':\n",
    "                return False\n",
    "        elif t == '}':\n",
    "            if not stack or stack.pop() != '{':\n",
    "                return False\n",
    "        elif t == ']':\n",
    "            if not stack or stack.pop() != '[':\n",
    "                return False\n",
    "        else:\n",
    "            stack.append(t)\n",
    "    return not stack\n",
    "\n",
    "s = \"[()]\"\n",
    "ans = isValid(s)\n",
    "print(ans)\n"
   ]
  },
  {
   "cell_type": "code",
   "execution_count": null,
   "id": "151d2a5c-8179-4f37-92ac-ef44191376dd",
   "metadata": {},
   "outputs": [],
   "source": []
  }
 ],
 "metadata": {
  "kernelspec": {
   "display_name": "Python 3 (ipykernel)",
   "language": "python",
   "name": "python3"
  },
  "language_info": {
   "codemirror_mode": {
    "name": "ipython",
    "version": 3
   },
   "file_extension": ".py",
   "mimetype": "text/x-python",
   "name": "python",
   "nbconvert_exporter": "python",
   "pygments_lexer": "ipython3",
   "version": "3.11.3"
  }
 },
 "nbformat": 4,
 "nbformat_minor": 5
}
