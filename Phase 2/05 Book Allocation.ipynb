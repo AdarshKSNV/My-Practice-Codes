{
 "cells": [
  {
   "cell_type": "markdown",
   "id": "f1cdb726",
   "metadata": {},
   "source": [
    "Aggressive cows\n",
    "The minimum distance between the cows should be maximum"
   ]
  },
  {
   "cell_type": "markdown",
   "id": "d41ffe36",
   "metadata": {},
   "source": [
    "Angry Birds\n",
    "The minimum distance between the birds shoukd be maximum"
   ]
  },
  {
   "cell_type": "code",
   "execution_count": null,
   "id": "30651137",
   "metadata": {},
   "outputs": [],
   "source": [
    "An array will be given which represents no of pages different books and these pages are given in asceneding order.The question says these books should be allocated to two students with few conditions\n",
    "01 such that each student should have atleast one book\n",
    "02 each book can be allocated to only one student\n",
    "03 books or pages should be allocated in consecutive order\n",
    "\n",
    "The maximum no of pages allocated to the student should be minimum\n"
   ]
  },
  {
   "cell_type": "code",
   "execution_count": 13,
   "id": "fd3b4c06",
   "metadata": {},
   "outputs": [
    {
     "name": "stdout",
     "output_type": "stream",
     "text": [
      "Minimum number of pages allocated to a student: 60\n"
     ]
    }
   ],
   "source": [
    "def is_possible(pages, n, m, mid):\n",
    "    students = 1\n",
    "    allocatedpages = 0\n",
    "\n",
    "    for i in range(n):\n",
    "        if pages[i] > mid:\n",
    "            return False\n",
    "\n",
    "        if allocatedpages + pages[i] > mid:\n",
    "            students += 1\n",
    "            allocatedpages = pages[i]\n",
    "            if students > m:\n",
    "                return False\n",
    "        else:\n",
    "            allocatedpages += pages[i]\n",
    "\n",
    "    return True\n",
    "\n",
    "def minimum_pages(pages, n, m):\n",
    "    if n < m:\n",
    "        return -1\n",
    "\n",
    "    start = max(pages)\n",
    "    end = sum(pages)\n",
    "    result = float('inf')\n",
    "\n",
    "    while start <= end:\n",
    "        mid = start + (end - start) // 2\n",
    "        if is_possible(pages, n, m, mid):\n",
    "            result = min(result, mid)\n",
    "            end = mid - 1\n",
    "        else:\n",
    "            start = mid + 1\n",
    "\n",
    "    return result\n",
    "\n",
    "pages = [10, 20, 30, 40]\n",
    "n = len(pages)\n",
    "m = 2\n",
    "minpages = minimum_pages(pages, n, m)\n",
    "print(\"Minimum number of pages allocated to a student:\", minpages)"
   ]
  },
  {
   "cell_type": "code",
   "execution_count": null,
   "id": "663f7d54",
   "metadata": {},
   "outputs": [],
   "source": []
  }
 ],
 "metadata": {
  "kernelspec": {
   "display_name": "Python 3 (ipykernel)",
   "language": "python",
   "name": "python3"
  },
  "language_info": {
   "codemirror_mode": {
    "name": "ipython",
    "version": 3
   },
   "file_extension": ".py",
   "mimetype": "text/x-python",
   "name": "python",
   "nbconvert_exporter": "python",
   "pygments_lexer": "ipython3",
   "version": "3.11.3"
  }
 },
 "nbformat": 4,
 "nbformat_minor": 5
}
