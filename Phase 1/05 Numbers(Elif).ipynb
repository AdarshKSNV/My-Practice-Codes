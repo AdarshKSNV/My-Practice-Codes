{
 "cells": [
  {
   "cell_type": "markdown",
   "id": "078273e9",
   "metadata": {},
   "source": [
    "//wRITE A PROGRAM IN WHICH U TAKE AN INTEGER INPUT FROM USER, IF THAT INTEGER IF IT IS DIVISIBLE BY 3 AND 6 PRINT GOOD NUMBER, IF THE INTEGER DIVISIBLE BY 2 AND 7 THEN PRINT AVERAGE NUMBER, IF THE INETEGER DIVISIBLE BY 4 OR 9 THEN PRINT AWESOME NUMBER ELSE PRINT BAD NUMBER"
   ]
  },
  {
   "cell_type": "code",
   "execution_count": 18,
   "id": "71ff89e0",
   "metadata": {},
   "outputs": [
    {
     "name": "stdout",
     "output_type": "stream",
     "text": [
      "Enter the number:36\n",
      "Good Number\n"
     ]
    }
   ],
   "source": [
    "num=int(input(\"Enter the number:\"))\n",
    "if(num%3==0 and num%6==0):\n",
    "    print(\"Good Number\")\n",
    "elif(num%2==0 and num%7==0):\n",
    "    print(\"Average Number\")\n",
    "elif(num%4==0 or num%9==0):\n",
    "    print(\"Awesome number\")\n",
    "else:\n",
    "    print(\"Bad Number\")"
   ]
  },
  {
   "cell_type": "code",
   "execution_count": null,
   "id": "033520de",
   "metadata": {},
   "outputs": [],
   "source": []
  }
 ],
 "metadata": {
  "kernelspec": {
   "display_name": "Python 3 (ipykernel)",
   "language": "python",
   "name": "python3"
  },
  "language_info": {
   "codemirror_mode": {
    "name": "ipython",
    "version": 3
   },
   "file_extension": ".py",
   "mimetype": "text/x-python",
   "name": "python",
   "nbconvert_exporter": "python",
   "pygments_lexer": "ipython3",
   "version": "3.11.3"
  }
 },
 "nbformat": 4,
 "nbformat_minor": 5
}
