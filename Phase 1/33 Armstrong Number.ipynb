{
 "cells": [
  {
   "cell_type": "markdown",
   "id": "48ce48d7",
   "metadata": {},
   "source": [
    "//Arm strong number python"
   ]
  },
  {
   "cell_type": "code",
   "execution_count": 1,
   "id": "6745f64b",
   "metadata": {},
   "outputs": [
    {
     "name": "stdout",
     "output_type": "stream",
     "text": [
      "Enter the number:1634\n",
      "Armstrong Number\n"
     ]
    }
   ],
   "source": [
    "num=int(input(\"Enter the number:\"))\n",
    "number=num\n",
    "sum=0\n",
    "num_digits=0\n",
    "\n",
    "while num!=0:\n",
    "    num//=10\n",
    "    num_digits+=1\n",
    "    \n",
    "num = number\n",
    "while num != 0:\n",
    "    digit = num % 10\n",
    "    sum+= digit ** num_digits\n",
    "    num //= 10\n",
    "\n",
    "if sum== number:\n",
    "    print(\"Armstrong Number\")\n",
    "else:\n",
    "    print(\"Not a armstrong number\")\n",
    "\n",
    "\n",
    "    "
   ]
  },
  {
   "cell_type": "code",
   "execution_count": null,
   "id": "30c1aac7",
   "metadata": {},
   "outputs": [],
   "source": []
  }
 ],
 "metadata": {
  "kernelspec": {
   "display_name": "Python 3 (ipykernel)",
   "language": "python",
   "name": "python3"
  },
  "language_info": {
   "codemirror_mode": {
    "name": "ipython",
    "version": 3
   },
   "file_extension": ".py",
   "mimetype": "text/x-python",
   "name": "python",
   "nbconvert_exporter": "python",
   "pygments_lexer": "ipython3",
   "version": "3.11.3"
  }
 },
 "nbformat": 4,
 "nbformat_minor": 5
}
