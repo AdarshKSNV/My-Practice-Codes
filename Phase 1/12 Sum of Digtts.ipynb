{
 "cells": [
  {
   "cell_type": "markdown",
   "id": "07023ec7",
   "metadata": {},
   "source": [
    "//Calculate the sum of digits of a number which is taken as input of the number"
   ]
  },
  {
   "cell_type": "code",
   "execution_count": 2,
   "id": "25952f36",
   "metadata": {},
   "outputs": [
    {
     "name": "stdout",
     "output_type": "stream",
     "text": [
      "Enter the number:102\n",
      "The sum of digits is: 3\n"
     ]
    }
   ],
   "source": [
    "num=int(input(\"Enter the number:\"))\n",
    "sum=0\n",
    "\n",
    "while num>0:\n",
    "    digit=num%10\n",
    "    sum+=digit\n",
    "    num//=10\n",
    "\n",
    "print(\"The sum of digits is:\",sum)"
   ]
  },
  {
   "cell_type": "code",
   "execution_count": null,
   "id": "7b29d0ae",
   "metadata": {},
   "outputs": [],
   "source": []
  }
 ],
 "metadata": {
  "kernelspec": {
   "display_name": "Python 3 (ipykernel)",
   "language": "python",
   "name": "python3"
  },
  "language_info": {
   "codemirror_mode": {
    "name": "ipython",
    "version": 3
   },
   "file_extension": ".py",
   "mimetype": "text/x-python",
   "name": "python",
   "nbconvert_exporter": "python",
   "pygments_lexer": "ipython3",
   "version": "3.11.3"
  }
 },
 "nbformat": 4,
 "nbformat_minor": 5
}
