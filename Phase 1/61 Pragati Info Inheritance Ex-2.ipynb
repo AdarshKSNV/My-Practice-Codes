{
 "cells": [
  {
   "cell_type": "markdown",
   "id": "14858d57",
   "metadata": {},
   "source": [
    "//Create a class of name placements which has a function info which displays we have \"No of placements\"\n",
    "//Create another class name department with function display which will display the names of departments present in the college.\n",
    "//Create a class pragati with a function welcome which displays the message welcome to pragati engineering we are glad to have you on board and this pragati class should also display the details about departments and placements"
   ]
  },
  {
   "cell_type": "code",
   "execution_count": 34,
   "id": "107dca31",
   "metadata": {},
   "outputs": [
    {
     "name": "stdout",
     "output_type": "stream",
     "text": [
      "Welcome to Pragati Engineering College.We are Glad to have you on board\n",
      "Departments Info: CSE IT ECE EEE CIVIL MECH\n",
      "We have 670 Placements in 2024 and still counting\n"
     ]
    }
   ],
   "source": [
    "class placements():\n",
    "    def info(self):\n",
    "        print(\"We have 670 Placements in 2024 and still counting\")\n",
    "    \n",
    "class department():\n",
    "    def display(self):\n",
    "        print(\"Departments Info:\",\"CSE\",\"IT\",\"ECE\",\"EEE\",\"CIVIL\",\"MECH\")\n",
    "\n",
    "\n",
    "class pragati(placements,department):\n",
    "    def displayss(self):\n",
    "        print(\"Welcome to Pragati Engineering College.We are Glad to have you on board\")\n",
    "\n",
    "obj=pragati()\n",
    "obj.displayss()\n",
    "obj.display()\n",
    "obj.info()"
   ]
  },
  {
   "cell_type": "code",
   "execution_count": null,
   "id": "1de1b821",
   "metadata": {},
   "outputs": [],
   "source": []
  }
 ],
 "metadata": {
  "kernelspec": {
   "display_name": "Python 3 (ipykernel)",
   "language": "python",
   "name": "python3"
  },
  "language_info": {
   "codemirror_mode": {
    "name": "ipython",
    "version": 3
   },
   "file_extension": ".py",
   "mimetype": "text/x-python",
   "name": "python",
   "nbconvert_exporter": "python",
   "pygments_lexer": "ipython3",
   "version": "3.11.3"
  }
 },
 "nbformat": 4,
 "nbformat_minor": 5
}
