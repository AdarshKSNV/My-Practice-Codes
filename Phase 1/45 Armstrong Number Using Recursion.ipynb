{
 "cells": [
  {
   "cell_type": "code",
   "execution_count": 10,
   "id": "25f505ec",
   "metadata": {},
   "outputs": [
    {
     "name": "stdout",
     "output_type": "stream",
     "text": [
      "Not an Armstrong number\n"
     ]
    }
   ],
   "source": [
    "def count(num):\n",
    "    if num == 0:\n",
    "        return 0\n",
    "    return 1 + count(num // 10)\n",
    "\n",
    "def arm(num, numdigits):\n",
    "    if num < 10:\n",
    "        return num ** numdigits\n",
    "    return (num % 10 ** numdigits) + arm(num // 10, numdigits)\n",
    "\n",
    "num = 153\n",
    "numdigits = count(num)\n",
    "\n",
    "if arm(num, numdigits) == num:\n",
    "    print(\"Armstrong Number\")\n",
    "else:\n",
    "    print(\"Not an Armstrong number\")\n"
   ]
  },
  {
   "cell_type": "code",
   "execution_count": 11,
   "id": "7ddea995",
   "metadata": {},
   "outputs": [
    {
     "name": "stdout",
     "output_type": "stream",
     "text": [
      "Not an Armstrong number\n"
     ]
    }
   ],
   "source": [
    "def count(num):\n",
    "    if num == 0:\n",
    "        return 0\n",
    "    return 1 + count(num // 10)\n",
    "\n",
    "def arm(num, numdigits):\n",
    "    if num < 10:\n",
    "        return num ** numdigits\n",
    "    return (num % 10 ** numdigits) + arm(num // 10, numdigits)\n",
    "\n",
    "num = 121\n",
    "numdigits = count(num)\n",
    "\n",
    "if arm(num, numdigits) == num:\n",
    "    print(\"Armstrong Number\")\n",
    "else:\n",
    "    print(\"Not an Armstrong number\")\n"
   ]
  },
  {
   "cell_type": "code",
   "execution_count": null,
   "id": "9c998699",
   "metadata": {},
   "outputs": [],
   "source": []
  }
 ],
 "metadata": {
  "kernelspec": {
   "display_name": "Python 3 (ipykernel)",
   "language": "python",
   "name": "python3"
  },
  "language_info": {
   "codemirror_mode": {
    "name": "ipython",
    "version": 3
   },
   "file_extension": ".py",
   "mimetype": "text/x-python",
   "name": "python",
   "nbconvert_exporter": "python",
   "pygments_lexer": "ipython3",
   "version": "3.11.3"
  }
 },
 "nbformat": 4,
 "nbformat_minor": 5
}
