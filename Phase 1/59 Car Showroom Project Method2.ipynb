{
 "cells": [
  {
   "cell_type": "code",
   "execution_count": null,
   "id": "02bea683",
   "metadata": {},
   "outputs": [
    {
     "name": "stdout",
     "output_type": "stream",
     "text": [
      "Enter company name:Toyota\n",
      "Welcome to Toyota company\n",
      "Enter modelname:Innova\n",
      "select petrol/dieselpetrol\n",
      "Exprice of the Innova model is 500000\n",
      "onroad price is 570000\n"
     ]
    }
   ],
   "source": [
    "    def onroadprice(exprice,sgst=20000,cgst=30000,insurance=20000):\n",
    "        onroadprice=exprice+sgst+cgst+insurance\n",
    "        print(\"Exprice of the {} model is {}\".format(modelname,exprice))\n",
    "        print(\"onroad price is {}\".format(onroadprice))\n",
    "    def displayprice():\n",
    "        toyotadict={\"Innova\":500000,\"Hybrid\":700000}\n",
    "        mercedesdict={\"G class\":900000,\"Maybach\":1200000}\n",
    "        mahindradict={\"Thar\":1100000,\"Scorpio\":600000}\n",
    "        if companyname==\"Toyota\":\n",
    "            exprice=toyotadict[modelname]\n",
    "            onroadprice(exprice)\n",
    "        elif companyname==\"Mercedes\":\n",
    "            exprice=mercedesdict[modelname]\n",
    "            onroadprice(exprice)\n",
    "        elif companyname==\"Mahindra\":\n",
    "            exprice=mahindradict[modelname]\n",
    "            onroadprice(exprice)\n",
    "\n",
    "    def selectvariant():\n",
    "        variant=input(\"select petrol/diesel\")\n",
    "        if variant not in [\"petrol\",\"diesel\"]:\n",
    "            print(\"invalid Varaint Selected\")\n",
    "        else:\n",
    "            displayprice()\n",
    "\n",
    "    def carmodel(modelname,companyname):\n",
    "        toyotamodels=[\"Innova\",\"Hybrid\"]\n",
    "        mercedesmodels=[\"G class\",\"Maybach\"]\n",
    "        mahindramodels=[\"Thar\",\"Scorpio\"]\n",
    "        if companyname==\"Toyota\":\n",
    "            if modelname not in toyotamodels:\n",
    "                print(\"Invalid Model Selected\")\n",
    "            else:\n",
    "                selectvariant()\n",
    "        elif companyname==\"Mercedes\":\n",
    "            if modelname not in mercedesmodels:\n",
    "                print(\"Invalid Model Selected\")\n",
    "            else:\n",
    "                selectvariant()\n",
    "        elif companyname==\"Mahindra\":\n",
    "            if modelname not in mahindramodels:\n",
    "                print(\"invalid Model Selected\")\n",
    "            else:\n",
    "                selectvariant()\n",
    "                \n",
    "    companyname=input(\"Enter company name:\")\n",
    "    carcompanies=[\"Toyota\",\"Mercedes\",\"Mahindra\"]\n",
    "    if companyname not in carcompanies:\n",
    "        print(\"Your required is not available in our showroom which is Invalid\")\n",
    "    else:\n",
    "        print(\"Welcome to {} company\".format(companyname))\n",
    "        modelname = input(\"Enter modelname:\")\n",
    "        carmodel(modelname,companyname)\n",
    "\n",
    "companyname=input(\"Enter company name:\")\n",
    "    carcompanies=[\"Toyota\",\"Mercedes\",\"Mahindra\"]\n",
    "    if companyname not in carcompanies:\n",
    "        print(\"Your required is not available in our showroom which is Invalid\")\n",
    "    else:\n",
    "        print(\"Welcome to {} company\".format(companyname))\n",
    "        modelname = input(\"Enter modelname:\")\n",
    "        carmodel(modelname,companyname)"
   ]
  },
  {
   "cell_type": "code",
   "execution_count": null,
   "id": "9d4bee18",
   "metadata": {},
   "outputs": [],
   "source": []
  }
 ],
 "metadata": {
  "kernelspec": {
   "display_name": "Python 3 (ipykernel)",
   "language": "python",
   "name": "python3"
  },
  "language_info": {
   "codemirror_mode": {
    "name": "ipython",
    "version": 3
   },
   "file_extension": ".py",
   "mimetype": "text/x-python",
   "name": "python",
   "nbconvert_exporter": "python",
   "pygments_lexer": "ipython3",
   "version": "3.11.3"
  }
 },
 "nbformat": 4,
 "nbformat_minor": 5
}
