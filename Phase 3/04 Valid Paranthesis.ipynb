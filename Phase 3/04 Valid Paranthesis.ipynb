{
 "cells": [
  {
   "cell_type": "code",
   "execution_count": 2,
   "id": "e88c3c36-3ced-4540-afa0-8672c8c7b78a",
   "metadata": {},
   "outputs": [],
   "source": [
    "class Solution(object):\n",
    "    def isValid(self, s):\n",
    "        stack = []\n",
    "        for c in s:\n",
    "            if c in '([{':\n",
    "                stack.append(c)\n",
    "            else:\n",
    "                if not stack or \\\n",
    "                    (c == ')' and stack[-1] != '(') or \\\n",
    "                    (c == '}' and stack[-1] != '{') or \\\n",
    "                    (c == ']' and stack[-1] != '['):\n",
    "                    return False\n",
    "                stack.pop()\n",
    "        return not stack"
   ]
  },
  {
   "cell_type": "code",
   "execution_count": null,
   "id": "09151d8a-6d8d-4bfb-a5d0-c61a51a678cd",
   "metadata": {},
   "outputs": [],
   "source": []
  }
 ],
 "metadata": {
  "kernelspec": {
   "display_name": "Python 3 (ipykernel)",
   "language": "python",
   "name": "python3"
  },
  "language_info": {
   "codemirror_mode": {
    "name": "ipython",
    "version": 3
   },
   "file_extension": ".py",
   "mimetype": "text/x-python",
   "name": "python",
   "nbconvert_exporter": "python",
   "pygments_lexer": "ipython3",
   "version": "3.11.3"
  }
 },
 "nbformat": 4,
 "nbformat_minor": 5
}
