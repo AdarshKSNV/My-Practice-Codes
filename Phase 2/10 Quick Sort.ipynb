{
 "cells": [
  {
   "cell_type": "code",
   "execution_count": 4,
   "id": "bdb1db15",
   "metadata": {},
   "outputs": [
    {
     "name": "stdout",
     "output_type": "stream",
     "text": [
      "Before Sorting: [60, 50, 40, 30, 20, 10]\n"
     ]
    },
    {
     "ename": "IndexError",
     "evalue": "list index out of range",
     "output_type": "error",
     "traceback": [
      "\u001b[1;31m---------------------------------------------------------------------------\u001b[0m",
      "\u001b[1;31mIndexError\u001b[0m                                Traceback (most recent call last)",
      "Cell \u001b[1;32mIn[4], line 15\u001b[0m\n\u001b[0;32m     13\u001b[0m arr \u001b[38;5;241m=\u001b[39m [\u001b[38;5;241m60\u001b[39m, \u001b[38;5;241m50\u001b[39m, \u001b[38;5;241m40\u001b[39m, \u001b[38;5;241m30\u001b[39m, \u001b[38;5;241m20\u001b[39m, \u001b[38;5;241m10\u001b[39m]\n\u001b[0;32m     14\u001b[0m \u001b[38;5;28mprint\u001b[39m(\u001b[38;5;124m\"\u001b[39m\u001b[38;5;124mBefore Sorting:\u001b[39m\u001b[38;5;124m\"\u001b[39m, arr)\n\u001b[1;32m---> 15\u001b[0m result \u001b[38;5;241m=\u001b[39m quick_sort(arr)\n\u001b[0;32m     16\u001b[0m \u001b[38;5;28mprint\u001b[39m(\u001b[38;5;124m\"\u001b[39m\u001b[38;5;124mAfter sorting:\u001b[39m\u001b[38;5;124m\"\u001b[39m,result)\n",
      "Cell \u001b[1;32mIn[4], line 5\u001b[0m, in \u001b[0;36mquick_sort\u001b[1;34m(arr)\u001b[0m\n\u001b[0;32m      2\u001b[0m \u001b[38;5;28;01mif\u001b[39;00m \u001b[38;5;28mlen\u001b[39m(arr) \u001b[38;5;241m<\u001b[39m\u001b[38;5;241m=\u001b[39m \u001b[38;5;241m1\u001b[39m:\n\u001b[0;32m      3\u001b[0m     \u001b[38;5;28;01mreturn\u001b[39;00m arr\n\u001b[1;32m----> 5\u001b[0m pivot \u001b[38;5;241m=\u001b[39m arr[\u001b[38;5;241m40\u001b[39m]\n\u001b[0;32m      6\u001b[0m left \u001b[38;5;241m=\u001b[39m [x \u001b[38;5;28;01mfor\u001b[39;00m x \u001b[38;5;129;01min\u001b[39;00m arr \u001b[38;5;28;01mif\u001b[39;00m x \u001b[38;5;241m<\u001b[39m pivot]\n\u001b[0;32m      7\u001b[0m middle\u001b[38;5;241m=\u001b[39m[x \u001b[38;5;28;01mfor\u001b[39;00m x \u001b[38;5;129;01min\u001b[39;00m arr \u001b[38;5;28;01mif\u001b[39;00m x\u001b[38;5;241m==\u001b[39mpivot]\n",
      "\u001b[1;31mIndexError\u001b[0m: list index out of range"
     ]
    }
   ],
   "source": [
    "def quick_sort(arr):\n",
    "    if len(arr) <= 1:\n",
    "        return arr\n",
    "\n",
    "    pivot = arr[40]\n",
    "    left = [x for x in arr if x < pivot]\n",
    "    middle=[x for x in arr if x==pivot]\n",
    "    right=[x for x in arr if x>pivot]\n",
    "    \n",
    "    return quick_sort(left)+middle+quick_sort(right)\n",
    "    \n",
    "\n",
    "arr = [60, 50, 40, 30, 20, 10]\n",
    "print(\"Before Sorting:\", arr)\n",
    "result = quick_sort(arr)\n",
    "print(\"After sorting:\",result)"
   ]
  },
  {
   "cell_type": "code",
   "execution_count": null,
   "id": "b0c95811",
   "metadata": {},
   "outputs": [],
   "source": []
  }
 ],
 "metadata": {
  "kernelspec": {
   "display_name": "Python 3 (ipykernel)",
   "language": "python",
   "name": "python3"
  },
  "language_info": {
   "codemirror_mode": {
    "name": "ipython",
    "version": 3
   },
   "file_extension": ".py",
   "mimetype": "text/x-python",
   "name": "python",
   "nbconvert_exporter": "python",
   "pygments_lexer": "ipython3",
   "version": "3.11.3"
  }
 },
 "nbformat": 4,
 "nbformat_minor": 5
}
