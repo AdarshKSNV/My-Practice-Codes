{
 "cells": [
  {
   "cell_type": "markdown",
   "id": "401947aa",
   "metadata": {},
   "source": [
    "Create a class f15 which has functions lights fan and ac and display\n",
    "\n",
    "light function called out it prints outh the colour of the light which is taken as parmeter to the function\n",
    "fan called out it displays the regulator speed which is taken as the parameter of the function\n",
    "ac displays the room temperature and the outside which are taken as parameters \n",
    "write a fourth function whose name is dispy which displays the difference in outside temperature and room temperature of ac and also it displays the fan speed"
   ]
  },
  {
   "cell_type": "code",
   "execution_count": 37,
   "id": "3bf73795",
   "metadata": {},
   "outputs": [
    {
     "name": "stdout",
     "output_type": "stream",
     "text": [
      "The color of the light is: red\n",
      "The speed of the fan is: 5\n",
      "The outside temperature is: 38\n",
      "The inside temperature is: 16\n",
      "The difference is: 22\n",
      "The fan speed is: 5\n"
     ]
    }
   ],
   "source": [
    "class f15():\n",
    "    \n",
    "    def light(axarsh,color):\n",
    "        print(\"The color of the light is:\",color)\n",
    "        \n",
    "    def fan(adarsh,speed):\n",
    "        adarsh.c=speed\n",
    "        print(\"The speed of the fan is:\",speed)\n",
    "        \n",
    "    def ac(adarsh,inside,out):\n",
    "        adarsh.a=out\n",
    "        adarsh.b=inside\n",
    "        print(\"The outside temperature is:\",out)\n",
    "        print(\"The inside temperature is:\",inside)\n",
    "        \n",
    "    def display(adarsh):\n",
    "        final=adarsh.a-adarsh.b\n",
    "        print(\"The difference is:\",final)\n",
    "        print(\"The fan speed is:\",adarsh.c)\n",
    "\n",
    "obj=f15()\n",
    "obj.light(\"red\")\n",
    "obj.fan(5)\n",
    "obj.ac(16,38)\n",
    "obj.display()"
   ]
  },
  {
   "cell_type": "code",
   "execution_count": null,
   "id": "87236eed",
   "metadata": {},
   "outputs": [],
   "source": []
  }
 ],
 "metadata": {
  "kernelspec": {
   "display_name": "Python 3 (ipykernel)",
   "language": "python",
   "name": "python3"
  },
  "language_info": {
   "codemirror_mode": {
    "name": "ipython",
    "version": 3
   },
   "file_extension": ".py",
   "mimetype": "text/x-python",
   "name": "python",
   "nbconvert_exporter": "python",
   "pygments_lexer": "ipython3",
   "version": "3.11.3"
  }
 },
 "nbformat": 4,
 "nbformat_minor": 5
}
