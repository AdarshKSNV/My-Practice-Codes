{
 "cells": [
  {
   "cell_type": "code",
   "execution_count": 3,
   "id": "5c67ff5b",
   "metadata": {},
   "outputs": [
    {
     "name": "stdout",
     "output_type": "stream",
     "text": [
      "List after sorting is : [10, 20, 50, 60, 80]\n"
     ]
    }
   ],
   "source": [
    "def Selection_Sort(arr):\n",
    "    for i in range(0, len(arr)-1):\n",
    "        min_index = i\n",
    "        for j in range(i + 1,len(arr)):\n",
    "            if arr[min_index] > arr[j]:\n",
    "                min_index= j\n",
    "        arr[i],arr[min_index] = arr[min_index], arr[i]\n",
    "    return arr\n",
    "\n",
    "arr=[10,50,60,80,20]\n",
    "result=Selection_Sort(arr)\n",
    "print(\"List after sorting is :\",result)"
   ]
  },
  {
   "cell_type": "code",
   "execution_count": null,
   "id": "57e09695",
   "metadata": {},
   "outputs": [],
   "source": []
  }
 ],
 "metadata": {
  "kernelspec": {
   "display_name": "Python 3 (ipykernel)",
   "language": "python",
   "name": "python3"
  },
  "language_info": {
   "codemirror_mode": {
    "name": "ipython",
    "version": 3
   },
   "file_extension": ".py",
   "mimetype": "text/x-python",
   "name": "python",
   "nbconvert_exporter": "python",
   "pygments_lexer": "ipython3",
   "version": "3.11.3"
  }
 },
 "nbformat": 4,
 "nbformat_minor": 5
}
