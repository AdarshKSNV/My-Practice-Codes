{
 "cells": [
  {
   "cell_type": "markdown",
   "id": "74232877",
   "metadata": {},
   "source": [
    "// Create a class ticket which will be the abstract class inside that create a function bookticket which will be the abstract method and has nothing in it\n",
    "//create a class makemytrip which will use the book ticket function from ticket class to take the details of such as name,phno,emailid,journeydate and displays a message thank you for booking from makemytrip.\n",
    "//create a class irctc which uses the book ticket of ticket class and takes the same details as make by trip but in the end it will give an option to user to select whether it is one way or round trip if the user option is roundtrip it again asks the user to enter the return date as well and then prints a message thankyou for using irctc else it prints the message thank you for using irctc.\n",
    "//create a class indigo which takes all the details as irctc and just asks which mode of transport you want to go in (train,flight or bus) and displays thankyou for choosing indigo"
   ]
  },
  {
   "cell_type": "code",
   "execution_count": 26,
   "id": "64acb820",
   "metadata": {},
   "outputs": [
    {
     "name": "stdout",
     "output_type": "stream",
     "text": [
      "Thankyou for choosing makemytrip and have a nice journey\n",
      "roundtrip or onewayroundtrip\n",
      "Enter returndate:852\n",
      "Thankyou for choosing irctc and have a nice journey\n",
      "Please enter the journeymode (Train,Bus,Flight): Train\n",
      "Thankyou for choosing indigo\n"
     ]
    }
   ],
   "source": [
    "from abc import ABC,abstractmethod\n",
    "\n",
    "class ticket():\n",
    "    @abstractmethod\n",
    "    def bookticket(self,name,phno,emailid,journeydate):\n",
    "        pass\n",
    "    \n",
    "class makemytrip(ticket):\n",
    "    def bookticket(self,name,phno,emailid,journeydate):\n",
    "        self.name=name\n",
    "        self.phno=phno\n",
    "        self.emailid=emailid\n",
    "        self.journeydate=journeydate\n",
    "        print(\"Thankyou for choosing makemytrip and have a nice journey\")\n",
    "\n",
    "class irctc(makemytrip):\n",
    "    def bookticket(self,name,phno,emailid,journeydate):\n",
    "        self.journeytype=input(\"roundtrip or oneway\")\n",
    "        if (self.journeytype==\"roundtrip\"):\n",
    "            returndate=input(\"Enter returndate:\")\n",
    "            print(\"Thankyou for choosing irctc and have a nice journey\")\n",
    "        else:\n",
    "            print(\"Thankyou for choosing irctc and have a nice journey\")\n",
    "\n",
    "class indigo(irctc):\n",
    "    def bookticket(self,name,phno,emailid,journeydate):\n",
    "        self.name=name\n",
    "        self.phno=phno\n",
    "        self.emailid=emailid\n",
    "        self.journeydate=journeydate\n",
    "        modeof=input(\"Please enter the journeymode (Train,Bus,Flight): \")\n",
    "        modeofjourney=[\"Train\",\"Bus\",\"Flight\"]\n",
    "        if modeof not in modeofjourney:\n",
    "            print(\"Invalid Journey Type Selected\")\n",
    "        else:\n",
    "            print(\"Thankyou for choosing indigo\")\n",
    "\n",
    "obj=ticket()0.\n",
    "obj.bookticket(\"Adarsh\",7896321,\"@gmail.com\",\"21\")\n",
    "\n",
    "obj1=makemytrip()\n",
    "obj1.bookticket(\"Adarsh\",7896321,\"@gmail.com\",\"21\")\n",
    "\n",
    "obj3=irctc()\n",
    "obj3.bookticket(\"Adarsh\",7896321,\"@gmail.com\",\"21\")\n",
    "\n",
    "obj2=indigo()\n",
    "obj2.bookticket(\"Adarsh\",7896321,\"@gmail.com\",\"21\")\n",
    "        "
   ]
  },
  {
   "cell_type": "code",
   "execution_count": null,
   "id": "a777dc29",
   "metadata": {},
   "outputs": [],
   "source": []
  }
 ],
 "metadata": {
  "kernelspec": {
   "display_name": "Python 3 (ipykernel)",
   "language": "python",
   "name": "python3"
  },
  "language_info": {
   "codemirror_mode": {
    "name": "ipython",
    "version": 3
   },
   "file_extension": ".py",
   "mimetype": "text/x-python",
   "name": "python",
   "nbconvert_exporter": "python",
   "pygments_lexer": "ipython3",
   "version": "3.11.3"
  }
 },
 "nbformat": 4,
 "nbformat_minor": 5
}
