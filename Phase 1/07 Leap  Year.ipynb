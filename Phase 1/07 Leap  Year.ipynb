{
 "cells": [
  {
   "cell_type": "code",
   "execution_count": null,
   "id": "d374d274",
   "metadata": {},
   "outputs": [],
   "source": [
    "// CHECK IN THE GIVEN YEAR IS LEAP YEAR OR NOT \n",
    "01 IF THE YEAR IS DIVISIBLE BY AND NOT DIVISIBLE BY 100 OR IF IT IS DIVISIBLE BY 400 THEN IS CALLED AS LEAP YEAR"
   ]
  },
  {
   "cell_type": "code",
   "execution_count": 8,
   "id": "7846a71f",
   "metadata": {},
   "outputs": [
    {
     "name": "stdout",
     "output_type": "stream",
     "text": [
      "Enter the year:1000\n",
      "Not a Leap Year\n"
     ]
    }
   ],
   "source": [
    "year=int(input(\"Enter the year:\"))\n",
    "\n",
    "if(year%4==0 and year%100!=0 or year%400==0):\n",
    "    print(\"Leap Year\")\n",
    "else:\n",
    "    print(\"Not a Leap Year\")"
   ]
  },
  {
   "cell_type": "code",
   "execution_count": null,
   "id": "1a1ebdc3",
   "metadata": {},
   "outputs": [],
   "source": [
    "-"
   ]
  }
 ],
 "metadata": {
  "kernelspec": {
   "display_name": "Python 3 (ipykernel)",
   "language": "python",
   "name": "python3"
  },
  "language_info": {
   "codemirror_mode": {
    "name": "ipython",
    "version": 3
   },
   "file_extension": ".py",
   "mimetype": "text/x-python",
   "name": "python",
   "nbconvert_exporter": "python",
   "pygments_lexer": "ipython3",
   "version": "3.11.3"
  }
 },
 "nbformat": 4,
 "nbformat_minor": 5
}
