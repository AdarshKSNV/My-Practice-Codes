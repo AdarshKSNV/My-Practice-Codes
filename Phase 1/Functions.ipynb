{
 "cells": [
  {
   "cell_type": "code",
   "execution_count": 1,
   "id": "78af1220",
   "metadata": {},
   "outputs": [],
   "source": [
    "transaction_history = []\n",
    "\n",
    "def checkbalance():\n",
    "    balance = 5000\n",
    "    print(\"Your current balance is:\", balance)\n",
    "    return balance\n",
    "\n",
    "def get_withdrawal_limit(cardtype):\n",
    "    if cardtype == \"1\" or cardtype == \"Rupay\":\n",
    "        return 2000\n",
    "    elif cardtype == \"2\" or cardtype == \"Visa\":\n",
    "        return 5000\n",
    "    elif cardtype == \"3\" or cardtype == \"MasterCard\":\n",
    "        return 10000\n",
    "    else:\n",
    "        return 0\n",
    "\n",
    "def withdraw_money(amount, cardtype):\n",
    "    balance = checkbalance()\n",
    "    withdrawal_limit = get_withdrawal_limit(cardtype)\n",
    "\n",
    "    if amount > withdrawal_limit:\n",
    "        print(\"Withdrawal amount exceeds the limit for your card type!\")\n",
    "    elif amount > balance:\n",
    "        print(\"Insufficient funds!\")\n",
    "    else:\n",
    "        balance -= amount\n",
    "        print(\"Withdrawal successful. Remaining balance:\", balance)\n",
    "        add_transaction(\"Withdrawal\", amount)\n",
    "\n",
    "def deposit_money(amount):\n",
    "    balance = checkbalance()\n",
    "    balance += amount\n",
    "    print(\"Deposit successful. Current balance:\", balance)\n",
    "    add_transaction(\"Deposit\", amount)\n",
    "\n",
    "def add_transaction(transaction_type, amount):\n",
    "    transaction = f\"{transaction_type}: {amount}\"\n",
    "    transaction_history.append(transaction)\n",
    "\n",
    "def print_mini_statement():\n",
    "    print(\"Last three transactions:\")\n",
    "    for i in range(-1, -4, -1):\n",
    "        if abs(i) <= len(transaction_history):\n",
    "            print(transaction_history[i])\n",
    "\n"
   ]
  },
  {
   "cell_type": "code",
   "execution_count": null,
   "id": "2429775e",
   "metadata": {},
   "outputs": [],
   "source": []
  }
 ],
 "metadata": {
  "kernelspec": {
   "display_name": "Python 3 (ipykernel)",
   "language": "python",
   "name": "python3"
  },
  "language_info": {
   "codemirror_mode": {
    "name": "ipython",
    "version": 3
   },
   "file_extension": ".py",
   "mimetype": "text/x-python",
   "name": "python",
   "nbconvert_exporter": "python",
   "pygments_lexer": "ipython3",
   "version": "3.11.3"
  }
 },
 "nbformat": 4,
 "nbformat_minor": 5
}
