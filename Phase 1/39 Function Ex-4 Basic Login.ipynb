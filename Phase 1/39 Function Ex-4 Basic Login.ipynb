{
 "cells": [
  {
   "cell_type": "markdown",
   "id": "9a238b4a",
   "metadata": {},
   "source": [
    "Write a function to design a basic login function and make sure to print successful login if username and password is same"
   ]
  },
  {
   "cell_type": "code",
   "execution_count": 2,
   "id": "84651342",
   "metadata": {},
   "outputs": [
    {
     "name": "stdout",
     "output_type": "stream",
     "text": [
      "Enter the username:hi\n",
      "Enter the password:hi\n",
      "login successful\n"
     ]
    }
   ],
   "source": [
    "def login():\n",
    "    while True:\n",
    "        username=input(\"Enter the username:\")\n",
    "        password=input(\"Enter the password:\")\n",
    "        \n",
    "        if(username==password):\n",
    "            print(\"login successful\")\n",
    "            break\n",
    "     \n",
    "        else:\n",
    "            print(\"Enter the credentials again\")\n",
    "\n",
    "login()"
   ]
  },
  {
   "cell_type": "code",
   "execution_count": null,
   "id": "0cc896c0",
   "metadata": {},
   "outputs": [
    {
     "name": "stdout",
     "output_type": "stream",
     "text": [
      "Enter the username:25\n",
      "Enter the password:26\n",
      "Enter the credentials again\n"
     ]
    }
   ],
   "source": [
    "def login():\n",
    "    while True:\n",
    "        username=input(\"Enter the username:\")\n",
    "        password=input(\"Enter the password:\")\n",
    "        \n",
    "        if(username==password):\n",
    "            print(\"login successful\")\n",
    "            break\n",
    "     \n",
    "        else:\n",
    "            print(\"Enter the credentials again\")\n",
    "\n",
    "login()"
   ]
  },
  {
   "cell_type": "code",
   "execution_count": null,
   "id": "ccfc48cd",
   "metadata": {},
   "outputs": [],
   "source": []
  }
 ],
 "metadata": {
  "kernelspec": {
   "display_name": "Python 3 (ipykernel)",
   "language": "python",
   "name": "python3"
  },
  "language_info": {
   "codemirror_mode": {
    "name": "ipython",
    "version": 3
   },
   "file_extension": ".py",
   "mimetype": "text/x-python",
   "name": "python",
   "nbconvert_exporter": "python",
   "pygments_lexer": "ipython3",
   "version": "3.11.3"
  }
 },
 "nbformat": 4,
 "nbformat_minor": 5
}
